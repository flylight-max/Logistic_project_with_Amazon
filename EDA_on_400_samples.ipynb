{
 "cells": [
  {
   "cell_type": "markdown",
   "metadata": {},
   "source": [
    "# **EDA of 400 samples from amazon_del**  \n",
    "Here I am doing an EDA on this sample in order to prepare them for a prediction model of Delivery time.  "
   ]
  },
  {
   "cell_type": "markdown",
   "metadata": {},
   "source": [
    "## **Packages**"
   ]
  },
  {
   "cell_type": "code",
   "execution_count": 12,
   "metadata": {},
   "outputs": [],
   "source": [
    "import pandas as pd\n",
    "import numpy as np\n",
    "import matplotlib.pyplot as plt\n",
    "import seaborn as sns\n",
    "import datetime as dt\n",
    "import math\n",
    "from geopy.geocoders import Nominatim\n",
    "import haversine as hs\n",
    "from haversine import Unit\n",
    "from modules_amazon import Location\n",
    "import pickle"
   ]
  },
  {
   "cell_type": "code",
   "execution_count": 13,
   "metadata": {},
   "outputs": [],
   "source": [
    "with open(\"amazon_sample400.pkl\", \"rb\") as f:\n",
    "    amazon_sample400 = pickle.load(f)"
   ]
  },
  {
   "cell_type": "markdown",
   "metadata": {},
   "source": [
    "# **Checking** "
   ]
  },
  {
   "cell_type": "code",
   "execution_count": 14,
   "metadata": {},
   "outputs": [
    {
     "name": "stdout",
     "output_type": "stream",
     "text": [
      "<class 'pandas.core.frame.DataFrame'>\n",
      "Index: 398 entries, 6607 to 18798\n",
      "Data columns (total 22 columns):\n",
      " #   Column                  Non-Null Count  Dtype          \n",
      "---  ------                  --------------  -----          \n",
      " 0   Order_ID                398 non-null    object         \n",
      " 1   Agent_Age               398 non-null    int64          \n",
      " 2   Agent_Rating            398 non-null    float64        \n",
      " 3   Store_Latitude          398 non-null    float64        \n",
      " 4   Store_Longitude         398 non-null    float64        \n",
      " 5   Drop_Latitude           398 non-null    float64        \n",
      " 6   Drop_Longitude          398 non-null    float64        \n",
      " 7   Order_Date              398 non-null    datetime64[ns] \n",
      " 8   Order_Time              398 non-null    object         \n",
      " 9   Pickup_Time             398 non-null    datetime64[ns] \n",
      " 10  Weather                 398 non-null    object         \n",
      " 11  Traffic                 398 non-null    category       \n",
      " 12  Vehicle                 398 non-null    category       \n",
      " 13  Area                    398 non-null    category       \n",
      " 14  Delivery_Time           398 non-null    int64          \n",
      " 15  Category                398 non-null    object         \n",
      " 16  Distance_Store_Drop_km  398 non-null    float64        \n",
      " 17  abs_Store_Latitude      398 non-null    float64        \n",
      " 18  abs_Store_Longitude     398 non-null    float64        \n",
      " 19  duration                398 non-null    timedelta64[ns]\n",
      " 20  duration_min            398 non-null    float64        \n",
      " 21  City                    397 non-null    object         \n",
      "dtypes: category(3), datetime64[ns](2), float64(9), int64(2), object(5), timedelta64[ns](1)\n",
      "memory usage: 63.4+ KB\n",
      "None\n"
     ]
    }
   ],
   "source": [
    "print(amazon_sample400.info())"
   ]
  },
  {
   "cell_type": "code",
   "execution_count": 15,
   "metadata": {},
   "outputs": [],
   "source": [
    "amazon_sample400.drop([\"Store_Latitude\",\"Store_Longitude\"], axis=1, inplace=True)"
   ]
  },
  {
   "cell_type": "markdown",
   "metadata": {},
   "source": [
    "## **Cities**  \n",
    "I have previously define the cities using the modules_amazon. However, in the EDA of the amazon_delivery I found 3180 rows with null coordinates of Store (represents around 7% of the all dataset).  \n",
    "Here, I will check the cities that loc.city() had found. Especially where the corrdinates of the Store were null."
   ]
  },
  {
   "cell_type": "code",
   "execution_count": 16,
   "metadata": {},
   "outputs": [
    {
     "name": "stdout",
     "output_type": "stream",
     "text": [
      "1\n"
     ]
    },
    {
     "data": {
      "text/html": [
       "<div>\n",
       "<style scoped>\n",
       "    .dataframe tbody tr th:only-of-type {\n",
       "        vertical-align: middle;\n",
       "    }\n",
       "\n",
       "    .dataframe tbody tr th {\n",
       "        vertical-align: top;\n",
       "    }\n",
       "\n",
       "    .dataframe thead th {\n",
       "        text-align: right;\n",
       "    }\n",
       "</style>\n",
       "<table border=\"1\" class=\"dataframe\">\n",
       "  <thead>\n",
       "    <tr style=\"text-align: right;\">\n",
       "      <th></th>\n",
       "      <th>Order_ID</th>\n",
       "      <th>Agent_Age</th>\n",
       "      <th>Agent_Rating</th>\n",
       "      <th>Drop_Latitude</th>\n",
       "      <th>Drop_Longitude</th>\n",
       "      <th>Order_Date</th>\n",
       "      <th>Order_Time</th>\n",
       "      <th>Pickup_Time</th>\n",
       "      <th>Weather</th>\n",
       "      <th>Traffic</th>\n",
       "      <th>Vehicle</th>\n",
       "      <th>Area</th>\n",
       "      <th>Delivery_Time</th>\n",
       "      <th>Category</th>\n",
       "      <th>Distance_Store_Drop_km</th>\n",
       "      <th>abs_Store_Latitude</th>\n",
       "      <th>abs_Store_Longitude</th>\n",
       "      <th>duration</th>\n",
       "      <th>duration_min</th>\n",
       "      <th>City</th>\n",
       "    </tr>\n",
       "  </thead>\n",
       "  <tbody>\n",
       "    <tr>\n",
       "      <th>14998</th>\n",
       "      <td>nqmv986411624</td>\n",
       "      <td>37</td>\n",
       "      <td>4.6</td>\n",
       "      <td>18.556216</td>\n",
       "      <td>73.882527</td>\n",
       "      <td>2022-03-07</td>\n",
       "      <td>13:50:00</td>\n",
       "      <td>2024-12-05 14:00:00</td>\n",
       "      <td>Sunny</td>\n",
       "      <td>High</td>\n",
       "      <td>motorcycle</td>\n",
       "      <td>Metropolitan</td>\n",
       "      <td>130</td>\n",
       "      <td>Snacks</td>\n",
       "      <td>6.129158</td>\n",
       "      <td>18.516216</td>\n",
       "      <td>73.842527</td>\n",
       "      <td>0 days 00:10:00</td>\n",
       "      <td>10.0</td>\n",
       "      <td>None</td>\n",
       "    </tr>\n",
       "  </tbody>\n",
       "</table>\n",
       "</div>"
      ],
      "text/plain": [
       "            Order_ID  Agent_Age  Agent_Rating  Drop_Latitude  Drop_Longitude  \\\n",
       "14998  nqmv986411624         37           4.6      18.556216       73.882527   \n",
       "\n",
       "      Order_Date Order_Time         Pickup_Time Weather Traffic     Vehicle  \\\n",
       "14998 2022-03-07   13:50:00 2024-12-05 14:00:00   Sunny    High  motorcycle   \n",
       "\n",
       "               Area  Delivery_Time Category  Distance_Store_Drop_km  \\\n",
       "14998  Metropolitan            130   Snacks                6.129158   \n",
       "\n",
       "       abs_Store_Latitude  abs_Store_Longitude        duration  duration_min  \\\n",
       "14998           18.516216            73.842527 0 days 00:10:00          10.0   \n",
       "\n",
       "       City  \n",
       "14998  None  "
      ]
     },
     "execution_count": 16,
     "metadata": {},
     "output_type": "execute_result"
    }
   ],
   "source": [
    "print(amazon_sample400[\"City\"].isna().sum())\n",
    "no_city = amazon_sample400[amazon_sample400[\"City\"].isna()]\n",
    "no_city"
   ]
  },
  {
   "cell_type": "code",
   "execution_count": 20,
   "metadata": {},
   "outputs": [],
   "source": [
    "loc = Location(18.5,73.8)\n",
    "city = loc.city()"
   ]
  },
  {
   "cell_type": "code",
   "execution_count": 22,
   "metadata": {},
   "outputs": [
    {
     "name": "stdout",
     "output_type": "stream",
     "text": [
      "Pune City\n",
      "India\n"
     ]
    }
   ],
   "source": [
    "print(city)\n",
    "print(loc.country())"
   ]
  },
  {
   "cell_type": "code",
   "execution_count": 26,
   "metadata": {},
   "outputs": [
    {
     "name": "stdout",
     "output_type": "stream",
     "text": [
      "<class 'pandas.core.frame.DataFrame'>\n",
      "Index: 34 entries, 3400 to 18798\n",
      "Data columns (total 20 columns):\n",
      " #   Column                  Non-Null Count  Dtype          \n",
      "---  ------                  --------------  -----          \n",
      " 0   Order_ID                34 non-null     object         \n",
      " 1   Agent_Age               34 non-null     int64          \n",
      " 2   Agent_Rating            34 non-null     float64        \n",
      " 3   Drop_Latitude           34 non-null     float64        \n",
      " 4   Drop_Longitude          34 non-null     float64        \n",
      " 5   Order_Date              34 non-null     datetime64[ns] \n",
      " 6   Order_Time              34 non-null     object         \n",
      " 7   Pickup_Time             34 non-null     datetime64[ns] \n",
      " 8   Weather                 34 non-null     object         \n",
      " 9   Traffic                 34 non-null     category       \n",
      " 10  Vehicle                 34 non-null     category       \n",
      " 11  Area                    34 non-null     category       \n",
      " 12  Delivery_Time           34 non-null     int64          \n",
      " 13  Category                34 non-null     object         \n",
      " 14  Distance_Store_Drop_km  34 non-null     float64        \n",
      " 15  abs_Store_Latitude      34 non-null     float64        \n",
      " 16  abs_Store_Longitude     34 non-null     float64        \n",
      " 17  duration                34 non-null     timedelta64[ns]\n",
      " 18  duration_min            34 non-null     float64        \n",
      " 19  City                    34 non-null     object         \n",
      "dtypes: category(3), datetime64[ns](2), float64(7), int64(2), object(5), timedelta64[ns](1)\n",
      "memory usage: 5.0+ KB\n",
      "None\n",
      "       abs_Store_Latitude  abs_Store_Longitude\n",
      "count           34.000000            34.000000\n",
      "mean            18.542951            73.859453\n",
      "std              0.012566             0.047454\n",
      "min             18.516216            73.774723\n",
      "25%             18.534700            73.811223\n",
      "50%             18.538009            73.896485\n",
      "75%             18.551440            73.899315\n",
      "max             18.569156            73.916619\n"
     ]
    }
   ],
   "source": [
    "Pune_City = amazon_sample400[amazon_sample400[\"City\"] == city]\n",
    "print(Pune_City.info())\n",
    "print(Pune_City[[\"abs_Store_Latitude\",\"abs_Store_Longitude\"]].describe())"
   ]
  },
  {
   "cell_type": "code",
   "execution_count": 27,
   "metadata": {},
   "outputs": [],
   "source": [
    "amazon_sample400[\"City\"] = amazon_sample400[\"City\"].fillna(\"Pune City\")"
   ]
  },
  {
   "cell_type": "markdown",
   "metadata": {},
   "source": [
    "I apparently don't have any null Store coordinates values in my sample.  \n",
    "The only null City value was one that was found to be in Pune City. During the calculation (which requires internet access) this row might have been skipped.  "
   ]
  },
  {
   "cell_type": "code",
   "execution_count": 29,
   "metadata": {},
   "outputs": [
    {
     "name": "stdout",
     "output_type": "stream",
     "text": [
      "['' 'Kolkata' 'Surat' 'Bengaluru' 'Prayagraj' 'Mysuru' 'Mumbai Suburban'\n",
      " 'Chhatrapati Sambhaji Nagar' 'Hyderabad' 'Kanpur' 'Pune City' 'Chennai'\n",
      " 'Ranchi' 'Ludhiana' 'Jaipur' 'Ernakulam' 'Bhopal' 'Indore' 'Mumbai City'\n",
      " 'Agra' 'Vadodara' 'Coimbatore' 'Dehradun' 'Thane' 'Panaji']\n"
     ]
    }
   ],
   "source": [
    "print(amazon_sample400[\"City\"].unique())"
   ]
  },
  {
   "cell_type": "code",
   "execution_count": 31,
   "metadata": {},
   "outputs": [
    {
     "name": "stdout",
     "output_type": "stream",
     "text": [
      "       abs_Store_Latitude  abs_Store_Longitude\n",
      "count          103.000000           103.000000\n",
      "mean            11.804214            55.019124\n",
      "std              8.357637            33.846224\n",
      "min              0.000000             0.000000\n",
      "25%              0.000000             0.000000\n",
      "50%             12.933284            73.165012\n",
      "75%             21.149669            76.997008\n",
      "max             30.885814            80.249982\n"
     ]
    }
   ],
   "source": [
    "empty_cities = amazon_sample400[amazon_sample400[\"City\"] == \"\"]\n",
    "print(empty_cities[[\"abs_Store_Latitude\",\"abs_Store_Longitude\"]].describe())"
   ]
  },
  {
   "cell_type": "code",
   "execution_count": 32,
   "metadata": {},
   "outputs": [
    {
     "name": "stdout",
     "output_type": "stream",
     "text": [
      "Area\n",
      "Metropolitan    85\n",
      "Urban           16\n",
      "Other            2\n",
      "Semi-Urban       0\n",
      "Name: count, dtype: int64\n"
     ]
    }
   ],
   "source": [
    "print(empty_cities[\"Area\"].value_counts())"
   ]
  },
  {
   "cell_type": "markdown",
   "metadata": {},
   "source": [
    "I won't remove them. I have a total of 103 null Store coordinates. However, I have the Area information which can be useful when comparing the traffic."
   ]
  }
 ],
 "metadata": {
  "kernelspec": {
   "display_name": "Essai",
   "language": "python",
   "name": "python3"
  },
  "language_info": {
   "codemirror_mode": {
    "name": "ipython",
    "version": 3
   },
   "file_extension": ".py",
   "mimetype": "text/x-python",
   "name": "python",
   "nbconvert_exporter": "python",
   "pygments_lexer": "ipython3",
   "version": "3.12.4"
  }
 },
 "nbformat": 4,
 "nbformat_minor": 2
}
