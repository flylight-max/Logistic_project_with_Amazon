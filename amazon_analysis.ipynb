{
 "cells": [
  {
   "cell_type": "code",
   "execution_count": 731,
   "metadata": {},
   "outputs": [],
   "source": [
    "import pandas as pd\n",
    "import numpy as np\n",
    "import matplotlib.pyplot as plt\n",
    "import seaborn as sns\n",
    "import datetime as dt\n",
    "import math\n",
    "from geopy.geocoders import Nominatim\n",
    "import haversine as hs\n",
    "from haversine import Unit\n",
    "from modules_amazon import Location\n",
    "import pickle"
   ]
  },
  {
   "cell_type": "code",
   "execution_count": 732,
   "metadata": {},
   "outputs": [
    {
     "name": "stdout",
     "output_type": "stream",
     "text": [
      "<class 'pandas.core.frame.DataFrame'>\n",
      "RangeIndex: 43739 entries, 0 to 43738\n",
      "Data columns (total 16 columns):\n",
      " #   Column           Non-Null Count  Dtype  \n",
      "---  ------           --------------  -----  \n",
      " 0   Order_ID         43739 non-null  object \n",
      " 1   Agent_Age        43739 non-null  int64  \n",
      " 2   Agent_Rating     43685 non-null  float64\n",
      " 3   Store_Latitude   43739 non-null  float64\n",
      " 4   Store_Longitude  43739 non-null  float64\n",
      " 5   Drop_Latitude    43739 non-null  float64\n",
      " 6   Drop_Longitude   43739 non-null  float64\n",
      " 7   Order_Date       43739 non-null  object \n",
      " 8   Order_Time       43739 non-null  object \n",
      " 9   Pickup_Time      43739 non-null  object \n",
      " 10  Weather          43648 non-null  object \n",
      " 11  Traffic          43739 non-null  object \n",
      " 12  Vehicle          43739 non-null  object \n",
      " 13  Area             43739 non-null  object \n",
      " 14  Delivery_Time    43739 non-null  int64  \n",
      " 15  Category         43739 non-null  object \n",
      "dtypes: float64(5), int64(2), object(9)\n",
      "memory usage: 5.3+ MB\n"
     ]
    }
   ],
   "source": [
    "amazon_del = pd.read_csv(\"amazon_delivery.csv\")\n",
    "amazon_del.info()"
   ]
  },
  {
   "cell_type": "markdown",
   "metadata": {},
   "source": [
    "# **Introduction**  \n"
   ]
  },
  {
   "cell_type": "markdown",
   "metadata": {},
   "source": [
    "## **Quick look column by column**  "
   ]
  },
  {
   "cell_type": "markdown",
   "metadata": {},
   "source": [
    "### **Order_ID**  \n",
    "Should be equivalent to PRIMARY KEY of a SQL table, only unique values. If so it can be removed when building a machine learning.  "
   ]
  },
  {
   "cell_type": "code",
   "execution_count": 733,
   "metadata": {},
   "outputs": [
    {
     "name": "stdout",
     "output_type": "stream",
     "text": [
      "Empty DataFrame\n",
      "Columns: [Order_ID, Agent_Age, Agent_Rating, Store_Latitude, Store_Longitude, Drop_Latitude, Drop_Longitude, Order_Date, Order_Time, Pickup_Time, Weather, Traffic, Vehicle, Area, Delivery_Time, Category]\n",
      "Index: []\n"
     ]
    }
   ],
   "source": [
    "duplicates_order = amazon_del.duplicated(subset=[\"Order_ID\"])\n",
    "print(amazon_del[duplicates_order])"
   ]
  },
  {
   "cell_type": "markdown",
   "metadata": {},
   "source": [
    "All IDs are different."
   ]
  },
  {
   "cell_type": "markdown",
   "metadata": {},
   "source": [
    "### **Agent_Age**  \n",
    "On first sight everything seems ok. Type: integer and no missing values.  \n"
   ]
  },
  {
   "cell_type": "code",
   "execution_count": 734,
   "metadata": {},
   "outputs": [
    {
     "data": {
      "text/plain": [
       "count    43739.000000\n",
       "mean        29.567137\n",
       "std          5.815155\n",
       "min         15.000000\n",
       "25%         25.000000\n",
       "50%         30.000000\n",
       "75%         35.000000\n",
       "max         50.000000\n",
       "Name: Agent_Age, dtype: float64"
      ]
     },
     "execution_count": 734,
     "metadata": {},
     "output_type": "execute_result"
    }
   ],
   "source": [
    "amazon_del[\"Agent_Age\"].describe()"
   ]
  },
  {
   "cell_type": "markdown",
   "metadata": {},
   "source": [
    "No Age = 0 or other abeerrant numbers."
   ]
  },
  {
   "cell_type": "markdown",
   "metadata": {},
   "source": [
    "### **Agent Rating**  \n",
    "Based on the info() table there are apparent missing values (54)."
   ]
  },
  {
   "cell_type": "code",
   "execution_count": 735,
   "metadata": {},
   "outputs": [
    {
     "data": {
      "text/plain": [
       "0.0012345961270262237"
      ]
     },
     "execution_count": 735,
     "metadata": {},
     "output_type": "execute_result"
    }
   ],
   "source": [
    "missing_ratings = amazon_del[amazon_del[\"Agent_Rating\"].isna()]\n",
    "non_missing_ratings = amazon_del[~(amazon_del[\"Agent_Rating\"].isna())]\n",
    "len(missing_ratings)/len(amazon_del)"
   ]
  },
  {
   "cell_type": "markdown",
   "metadata": {},
   "source": [
    "I could potentially remove the values as they represent less than 1%. But I will see if other values are missing."
   ]
  },
  {
   "cell_type": "code",
   "execution_count": 736,
   "metadata": {},
   "outputs": [
    {
     "data": {
      "text/plain": [
       "Traffic\n",
       "Low        23\n",
       "Jam        15\n",
       "Medium     14\n",
       "High        2\n",
       "Name: count, dtype: int64"
      ]
     },
     "execution_count": 736,
     "metadata": {},
     "output_type": "execute_result"
    }
   ],
   "source": [
    "missing_ratings[\"Traffic\"].value_counts(dropna=False)"
   ]
  },
  {
   "cell_type": "code",
   "execution_count": 737,
   "metadata": {},
   "outputs": [
    {
     "data": {
      "text/plain": [
       "Weather\n",
       "Windy         12\n",
       "Sunny         11\n",
       "Cloudy        11\n",
       "Stormy         8\n",
       "Sandstorms     7\n",
       "Fog            5\n",
       "Name: count, dtype: int64"
      ]
     },
     "execution_count": 737,
     "metadata": {},
     "output_type": "execute_result"
    }
   ],
   "source": [
    "missing_ratings[\"Weather\"].value_counts(dropna=False)"
   ]
  },
  {
   "cell_type": "markdown",
   "metadata": {},
   "source": [
    "I can remove them. There are no obvious reason of these missing values.  "
   ]
  },
  {
   "cell_type": "code",
   "execution_count": 738,
   "metadata": {},
   "outputs": [
    {
     "name": "stdout",
     "output_type": "stream",
     "text": [
      "<class 'pandas.core.frame.DataFrame'>\n",
      "Index: 43685 entries, 0 to 43738\n",
      "Data columns (total 16 columns):\n",
      " #   Column           Non-Null Count  Dtype  \n",
      "---  ------           --------------  -----  \n",
      " 0   Order_ID         43685 non-null  object \n",
      " 1   Agent_Age        43685 non-null  int64  \n",
      " 2   Agent_Rating     43685 non-null  float64\n",
      " 3   Store_Latitude   43685 non-null  float64\n",
      " 4   Store_Longitude  43685 non-null  float64\n",
      " 5   Drop_Latitude    43685 non-null  float64\n",
      " 6   Drop_Longitude   43685 non-null  float64\n",
      " 7   Order_Date       43685 non-null  object \n",
      " 8   Order_Time       43685 non-null  object \n",
      " 9   Pickup_Time      43685 non-null  object \n",
      " 10  Weather          43594 non-null  object \n",
      " 11  Traffic          43685 non-null  object \n",
      " 12  Vehicle          43685 non-null  object \n",
      " 13  Area             43685 non-null  object \n",
      " 14  Delivery_Time    43685 non-null  int64  \n",
      " 15  Category         43685 non-null  object \n",
      "dtypes: float64(5), int64(2), object(9)\n",
      "memory usage: 5.7+ MB\n"
     ]
    }
   ],
   "source": [
    "amazon_del = amazon_del.drop(missing_ratings.index, axis=0)\n",
    "amazon_del.info()"
   ]
  },
  {
   "cell_type": "markdown",
   "metadata": {},
   "source": [
    "### **Store Latitude**  \n",
    "When the latitude is positive we are above the equator line. When the latitude is negative we are south to the equator line.  "
   ]
  },
  {
   "cell_type": "code",
   "execution_count": 739,
   "metadata": {},
   "outputs": [
    {
     "data": {
      "text/plain": [
       "count    43685.000000\n",
       "mean        17.214543\n",
       "std          7.750885\n",
       "min        -30.902872\n",
       "25%         12.933298\n",
       "50%         18.551440\n",
       "75%         22.732225\n",
       "max         30.914057\n",
       "Name: Store_Latitude, dtype: float64"
      ]
     },
     "execution_count": 739,
     "metadata": {},
     "output_type": "execute_result"
    }
   ],
   "source": [
    "amazon_del[\"Store_Latitude\"].describe()"
   ]
  },
  {
   "cell_type": "markdown",
   "metadata": {},
   "source": [
    "### **Store Longitude**  \n",
    "No apparent missing values."
   ]
  },
  {
   "cell_type": "code",
   "execution_count": 740,
   "metadata": {},
   "outputs": [
    {
     "data": {
      "text/plain": [
       "count    43685.000000\n",
       "mean        70.668593\n",
       "std         21.459258\n",
       "min        -88.366217\n",
       "25%         73.170283\n",
       "50%         75.898497\n",
       "75%         78.045359\n",
       "max         88.433452\n",
       "Name: Store_Longitude, dtype: float64"
      ]
     },
     "execution_count": 740,
     "metadata": {},
     "output_type": "execute_result"
    }
   ],
   "source": [
    "amazon_del[\"Store_Longitude\"].describe()"
   ]
  },
  {
   "cell_type": "code",
   "execution_count": 741,
   "metadata": {},
   "outputs": [
    {
     "name": "stdout",
     "output_type": "stream",
     "text": [
      "Indore\n",
      "India\n"
     ]
    }
   ],
   "source": [
    "latitude_0 = amazon_del.iloc[0,3]\n",
    "longitude_0 = amazon_del.iloc[0,4]\n",
    "loc = Location(latitude_0,longitude_0)\n",
    "print(loc.city())\n",
    "print(loc.country())"
   ]
  },
  {
   "cell_type": "markdown",
   "metadata": {},
   "source": [
    "### **Drop_Latitude, Drop_Longitude**"
   ]
  },
  {
   "cell_type": "code",
   "execution_count": 742,
   "metadata": {},
   "outputs": [
    {
     "name": "stdout",
     "output_type": "stream",
     "text": [
      "count    43685.000000\n",
      "mean        17.458164\n",
      "std          7.339296\n",
      "min          0.010000\n",
      "25%         12.985996\n",
      "50%         18.633626\n",
      "75%         22.785049\n",
      "max         31.054057\n",
      "Name: Drop_Latitude, dtype: float64\n",
      "count    43685.000000\n",
      "mean        70.829376\n",
      "std         21.136728\n",
      "min          0.010000\n",
      "25%         73.280000\n",
      "50%         76.002574\n",
      "75%         78.103162\n",
      "max         88.563452\n",
      "Name: Drop_Longitude, dtype: float64\n"
     ]
    }
   ],
   "source": [
    "print(amazon_del[\"Drop_Latitude\"].describe())\n",
    "print(amazon_del[\"Drop_Longitude\"].describe())\n"
   ]
  },
  {
   "cell_type": "code",
   "execution_count": 743,
   "metadata": {},
   "outputs": [
    {
     "name": "stdout",
     "output_type": "stream",
     "text": [
      "<class 'pandas.core.frame.DataFrame'>\n",
      "Index: 315 entries, 149 to 43664\n",
      "Data columns (total 16 columns):\n",
      " #   Column           Non-Null Count  Dtype  \n",
      "---  ------           --------------  -----  \n",
      " 0   Order_ID         315 non-null    object \n",
      " 1   Agent_Age        315 non-null    int64  \n",
      " 2   Agent_Rating     315 non-null    float64\n",
      " 3   Store_Latitude   315 non-null    float64\n",
      " 4   Store_Longitude  315 non-null    float64\n",
      " 5   Drop_Latitude    315 non-null    float64\n",
      " 6   Drop_Longitude   315 non-null    float64\n",
      " 7   Order_Date       315 non-null    object \n",
      " 8   Order_Time       315 non-null    object \n",
      " 9   Pickup_Time      315 non-null    object \n",
      " 10  Weather          314 non-null    object \n",
      " 11  Traffic          315 non-null    object \n",
      " 12  Vehicle          315 non-null    object \n",
      " 13  Area             315 non-null    object \n",
      " 14  Delivery_Time    315 non-null    int64  \n",
      " 15  Category         315 non-null    object \n",
      "dtypes: float64(5), int64(2), object(9)\n",
      "memory usage: 41.8+ KB\n",
      "None\n",
      "count    3.150000e+02\n",
      "mean     1.000000e-02\n",
      "std      7.471179e-17\n",
      "min      1.000000e-02\n",
      "25%      1.000000e-02\n",
      "50%      1.000000e-02\n",
      "75%      1.000000e-02\n",
      "max      1.000000e-02\n",
      "Name: Drop_Latitude, dtype: float64\n",
      "     Drop_Latitude  Drop_Longitude\n",
      "149           0.01            0.01\n",
      "346           0.01            0.01\n",
      "450           0.01            0.01\n",
      "615           0.01            0.01\n",
      "634           0.01            0.01\n"
     ]
    }
   ],
   "source": [
    "Drop_long_0 = amazon_del[amazon_del[\"Drop_Longitude\"] == 0.01]\n",
    "print(Drop_long_0.info())\n",
    "print(Drop_long_0[\"Drop_Latitude\"].describe())\n",
    "print(Drop_long_0[[\"Drop_Latitude\",\"Drop_Longitude\"]].head())"
   ]
  },
  {
   "cell_type": "code",
   "execution_count": 744,
   "metadata": {},
   "outputs": [
    {
     "name": "stdout",
     "output_type": "stream",
     "text": [
      "count    315.0\n",
      "mean       0.0\n",
      "std        0.0\n",
      "min        0.0\n",
      "25%        0.0\n",
      "50%        0.0\n",
      "75%        0.0\n",
      "max        0.0\n",
      "Name: Store_Latitude, dtype: float64\n",
      "count    315.0\n",
      "mean       0.0\n",
      "std        0.0\n",
      "min        0.0\n",
      "25%        0.0\n",
      "50%        0.0\n",
      "75%        0.0\n",
      "max        0.0\n",
      "Name: Store_Longitude, dtype: float64\n"
     ]
    },
    {
     "data": {
      "text/plain": [
       "0.007210713059402541"
      ]
     },
     "execution_count": 744,
     "metadata": {},
     "output_type": "execute_result"
    }
   ],
   "source": [
    "print(Drop_long_0[\"Store_Latitude\"].describe())\n",
    "print(Drop_long_0[\"Store_Longitude\"].describe())\n",
    "len(Drop_long_0)/len(amazon_del)"
   ]
  },
  {
   "cell_type": "markdown",
   "metadata": {},
   "source": [
    "These 315 rows of aberrant Drop coordinates also have aberrant Store coordinates. They represent less than 1% of the entire dataset. I will remove them.  \n",
    "However, I will keep them in a separate dataframe to understand what happened (Drop_long_0). There was clearly a problem in the automatic geolocalisation."
   ]
  },
  {
   "cell_type": "code",
   "execution_count": 745,
   "metadata": {},
   "outputs": [
    {
     "name": "stdout",
     "output_type": "stream",
     "text": [
      "<class 'pandas.core.frame.DataFrame'>\n",
      "Index: 43370 entries, 0 to 43738\n",
      "Data columns (total 16 columns):\n",
      " #   Column           Non-Null Count  Dtype  \n",
      "---  ------           --------------  -----  \n",
      " 0   Order_ID         43370 non-null  object \n",
      " 1   Agent_Age        43370 non-null  int64  \n",
      " 2   Agent_Rating     43370 non-null  float64\n",
      " 3   Store_Latitude   43370 non-null  float64\n",
      " 4   Store_Longitude  43370 non-null  float64\n",
      " 5   Drop_Latitude    43370 non-null  float64\n",
      " 6   Drop_Longitude   43370 non-null  float64\n",
      " 7   Order_Date       43370 non-null  object \n",
      " 8   Order_Time       43370 non-null  object \n",
      " 9   Pickup_Time      43370 non-null  object \n",
      " 10  Weather          43280 non-null  object \n",
      " 11  Traffic          43370 non-null  object \n",
      " 12  Vehicle          43370 non-null  object \n",
      " 13  Area             43370 non-null  object \n",
      " 14  Delivery_Time    43370 non-null  int64  \n",
      " 15  Category         43370 non-null  object \n",
      "dtypes: float64(5), int64(2), object(9)\n",
      "memory usage: 5.6+ MB\n",
      "None\n"
     ]
    }
   ],
   "source": [
    "amazon_del = amazon_del.drop(Drop_long_0.index, axis=0)\n",
    "print(amazon_del.info())"
   ]
  },
  {
   "cell_type": "markdown",
   "metadata": {},
   "source": [
    "### **Order_Date**  \n",
    "No apparent missing values. I will switch to date format."
   ]
  },
  {
   "cell_type": "code",
   "execution_count": 746,
   "metadata": {},
   "outputs": [
    {
     "name": "stdout",
     "output_type": "stream",
     "text": [
      "0    2022-03-19\n",
      "1    2022-03-25\n",
      "2    2022-03-19\n",
      "3    2022-04-05\n",
      "4    2022-03-26\n",
      "Name: Order_Date, dtype: object\n",
      "datetime64[ns]\n",
      "0\n",
      "2022-02-11 00:00:00\n",
      "2022-04-06 00:00:00\n"
     ]
    }
   ],
   "source": [
    "print(amazon_del[\"Order_Date\"].head())\n",
    "amazon_del[\"Order_Date\"] = pd.to_datetime(amazon_del[\"Order_Date\"], format=\"%Y-%m-%d\")\n",
    "print(amazon_del[\"Order_Date\"].dtype)\n",
    "print(amazon_del[\"Order_Date\"].isna().sum())\n",
    "print(amazon_del[\"Order_Date\"].min())\n",
    "print(amazon_del[\"Order_Date\"].max())"
   ]
  },
  {
   "cell_type": "code",
   "execution_count": 747,
   "metadata": {},
   "outputs": [
    {
     "data": {
      "text/plain": [
       "<Axes: xlabel='Order_Date', ylabel='count'>"
      ]
     },
     "execution_count": 747,
     "metadata": {},
     "output_type": "execute_result"
    },
    {
     "data": {
      "image/png": "[encoded data removed]",
      "text/plain": [
       "<Figure size 640x480 with 1 Axes>"
      ]
     },
     "metadata": {},
     "output_type": "display_data"
    }
   ],
   "source": [
    "amazon_del.sort_values(by=\"Order_Date\", inplace=True)\n",
    "\n",
    "sns.countplot(x=\"Order_Date\", data=amazon_del)\n"
   ]
  },
  {
   "cell_type": "markdown",
   "metadata": {},
   "source": [
    "### **Order_Time**  \n",
    "No apparent missing values."
   ]
  },
  {
   "cell_type": "markdown",
   "metadata": {},
   "source": [
    "I don't have any NaN at this position or nearby. "
   ]
  },
  {
   "cell_type": "code",
   "execution_count": 748,
   "metadata": {},
   "outputs": [
    {
     "name": "stdout",
     "output_type": "stream",
     "text": [
      "['08:40:00' '22:25:00' '17:20:00' '13:50:00' '21:20:00' '17:25:00'\n",
      " '10:40:00' '09:55:00' '21:10:00' '22:35:00' '22:30:00' '19:25:00'\n",
      " '17:45:00' '11:00:00' '11:50:00' '09:45:00' '11:15:00' '19:15:00'\n",
      " '12:55:00' '20:20:00' '22:40:00' '16:35:00' '08:55:00' '21:15:00'\n",
      " '09:30:00' '21:30:00' '17:40:00' '20:30:00' '23:50:00' '16:00:00'\n",
      " '10:50:00' '17:55:00' '09:40:00' '19:10:00' '09:20:00' '17:10:00'\n",
      " '20:15:00' '12:00:00' '12:40:00' '18:45:00' '22:15:00' '08:10:00'\n",
      " '13:55:00' '18:15:00' '23:15:00' '22:45:00' '14:45:00' '18:00:00'\n",
      " '00:00:00' '10:15:00' '20:25:00' '13:00:00' '23:35:00' '21:55:00'\n",
      " '23:00:00' '22:00:00' '10:25:00' '11:10:00' '09:50:00' '19:00:00'\n",
      " '19:35:00' '15:10:00' '16:15:00' '08:50:00' '21:25:00' '11:45:00'\n",
      " '23:25:00' '15:50:00' '18:35:00' '15:30:00' '11:55:00' '20:35:00'\n",
      " '23:55:00' '15:25:00' '18:30:00' '10:35:00' '23:20:00' '17:35:00'\n",
      " '18:50:00' '10:10:00' '13:15:00' '14:35:00' '20:40:00' '12:10:00'\n",
      " '19:55:00' '12:15:00' '19:40:00' '20:45:00' '15:45:00' '08:35:00'\n",
      " '13:35:00' '18:20:00' '21:35:00' '15:40:00' '09:35:00' '10:55:00'\n",
      " '18:10:00' '08:20:00' '17:15:00' '08:30:00' '23:40:00' '08:25:00'\n",
      " '19:50:00' '15:15:00' '10:30:00' '14:25:00' '19:30:00' '11:30:00'\n",
      " '22:55:00' '09:15:00' '13:30:00' '20:10:00' '11:40:00' '12:20:00'\n",
      " '18:55:00' '16:55:00' '12:45:00' '19:20:00' '23:10:00' '18:40:00'\n",
      " '21:40:00' '09:00:00' '21:45:00' '11:20:00' '13:40:00' '17:50:00'\n",
      " '09:25:00' '23:30:00' '10:45:00' '14:30:00' '12:50:00' '08:15:00'\n",
      " '17:30:00' '09:10:00' '10:20:00' '23:45:00' '16:45:00' '15:00:00'\n",
      " '22:10:00' '16:30:00' '15:55:00' '21:00:00' '16:10:00' '13:25:00'\n",
      " '20:00:00' '14:00:00' '22:50:00' '17:00:00' '10:00:00' '11:25:00'\n",
      " '19:45:00' '18:25:00' '13:45:00' '14:15:00' '14:10:00' '21:50:00'\n",
      " '12:35:00' '20:50:00' '14:20:00' '08:45:00' '22:20:00' '12:25:00'\n",
      " '16:50:00' '15:20:00' '11:35:00' '16:25:00' '12:30:00' '13:10:00'\n",
      " '14:50:00' '16:20:00' '14:40:00' '16:40:00' '13:20:00' '20:55:00' 'NaN '\n",
      " '15:35:00' '14:55:00']\n"
     ]
    }
   ],
   "source": [
    "print(amazon_del[\"Order_Time\"].unique())"
   ]
  },
  {
   "cell_type": "markdown",
   "metadata": {},
   "source": [
    "However, I can see NaN written with a whitespace. That is the reason why it cannot be considered as missing value."
   ]
  },
  {
   "cell_type": "code",
   "execution_count": 749,
   "metadata": {},
   "outputs": [
    {
     "name": "stdout",
     "output_type": "stream",
     "text": [
      "<class 'pandas.core.frame.DataFrame'>\n",
      "Index: 90 entries, 23961 to 5142\n",
      "Data columns (total 16 columns):\n",
      " #   Column           Non-Null Count  Dtype         \n",
      "---  ------           --------------  -----         \n",
      " 0   Order_ID         90 non-null     object        \n",
      " 1   Agent_Age        90 non-null     int64         \n",
      " 2   Agent_Rating     90 non-null     float64       \n",
      " 3   Store_Latitude   90 non-null     float64       \n",
      " 4   Store_Longitude  90 non-null     float64       \n",
      " 5   Drop_Latitude    90 non-null     float64       \n",
      " 6   Drop_Longitude   90 non-null     float64       \n",
      " 7   Order_Date       90 non-null     datetime64[ns]\n",
      " 8   Order_Time       90 non-null     object        \n",
      " 9   Pickup_Time      90 non-null     object        \n",
      " 10  Weather          0 non-null      object        \n",
      " 11  Traffic          90 non-null     object        \n",
      " 12  Vehicle          90 non-null     object        \n",
      " 13  Area             90 non-null     object        \n",
      " 14  Delivery_Time    90 non-null     int64         \n",
      " 15  Category         90 non-null     object        \n",
      "dtypes: datetime64[ns](1), float64(5), int64(2), object(8)\n",
      "memory usage: 12.0+ KB\n",
      "None\n"
     ]
    }
   ],
   "source": [
    "amazon_del[\"Order_Time\"] = amazon_del[\"Order_Time\"].str.strip()\n",
    "missing_Order_Time = amazon_del[amazon_del[\"Order_Time\"] == \"NaN\"]\n",
    "amazon_del[\"Order_Time\"] = amazon_del[\"Order_Time\"].replace(\"NaN\", np.nan)\n",
    "print(missing_Order_Time.info())"
   ]
  },
  {
   "cell_type": "markdown",
   "metadata": {},
   "source": [
    "Interestingly, all the missing values Order_Time correlate with the absence of Weather values.  \n",
    "I won't remove them right away, I will try to understand why is that."
   ]
  },
  {
   "cell_type": "markdown",
   "metadata": {},
   "source": [
    "### **Pickup_Time**  \n",
    "No apparent missing values."
   ]
  },
  {
   "cell_type": "code",
   "execution_count": 750,
   "metadata": {},
   "outputs": [
    {
     "name": "stdout",
     "output_type": "stream",
     "text": [
      "['08:55:00' '22:40:00' '17:25:00' '14:05:00' '21:35:00' '17:40:00'\n",
      " '10:45:00' '10:05:00' '21:20:00' '19:30:00' '18:00:00' '11:15:00'\n",
      " '11:55:00' '11:05:00' '09:50:00' '11:20:00' '19:25:00' '13:10:00'\n",
      " '20:30:00' '22:50:00' '16:40:00' '09:10:00' '21:25:00' '17:30:00'\n",
      " '09:45:00' '21:40:00' '17:45:00' '20:45:00' '00:00:00' '12:00:00'\n",
      " '16:05:00' '10:55:00' '19:15:00' '09:30:00' '20:25:00' '12:15:00'\n",
      " '12:45:00' '18:55:00' '09:25:00' '22:30:00' '08:20:00' '18:20:00'\n",
      " '23:25:00' '21:45:00' '15:00:00' '22:45:00' '18:05:00' '00:05:00'\n",
      " '10:25:00' '13:15:00' '19:20:00' '23:40:00' '22:05:00' '23:05:00'\n",
      " '09:55:00' '22:15:00' '10:30:00' '11:25:00' '17:50:00' '22:35:00'\n",
      " '19:05:00' '19:45:00' '15:25:00' '16:20:00' '09:05:00' '11:50:00'\n",
      " '10:50:00' '19:00:00' '12:10:00' '23:30:00' '15:55:00' '08:50:00'\n",
      " '18:40:00' '15:40:00' '18:25:00' '20:40:00' '00:10:00' '20:50:00'\n",
      " '15:35:00' '23:55:00' '18:45:00' '10:40:00' '23:35:00' '10:20:00'\n",
      " '13:25:00' '14:50:00' '13:00:00' '18:50:00' '19:35:00' '20:00:00'\n",
      " '12:20:00' '19:55:00' '15:50:00' '13:45:00' '22:10:00' '19:10:00'\n",
      " '10:00:00' '14:45:00' '08:25:00' '20:05:00' '17:55:00' '17:20:00'\n",
      " '08:45:00' '23:50:00' '18:15:00' '17:35:00' '23:20:00' '09:40:00'\n",
      " '08:35:00' '19:50:00' '15:30:00' '10:35:00' '15:15:00' '14:30:00'\n",
      " '11:35:00' '23:00:00' '14:40:00' '13:05:00' '13:35:00' '20:55:00'\n",
      " '21:00:00' '12:30:00' '15:45:00' '17:00:00' '12:55:00' '21:30:00'\n",
      " '21:55:00' '10:15:00' '12:05:00' '11:30:00' '16:00:00' '09:00:00'\n",
      " '12:35:00' '09:35:00' '11:00:00' '23:45:00' '14:35:00' '08:30:00'\n",
      " '11:10:00' '18:30:00' '18:35:00' '16:50:00' '20:10:00' '15:10:00'\n",
      " '22:25:00' '09:20:00' '16:45:00' '21:50:00' '16:30:00' '19:40:00'\n",
      " '21:15:00' '13:30:00' '08:40:00' '14:10:00' '22:55:00' '17:05:00'\n",
      " '13:55:00' '10:10:00' '11:40:00' '23:15:00' '20:35:00' '14:20:00'\n",
      " '14:25:00' '14:55:00' '22:00:00' '12:40:00' '16:25:00' '16:55:00'\n",
      " '14:00:00' '13:40:00' '09:15:00' '12:50:00' '16:10:00' '21:05:00'\n",
      " '17:10:00' '18:10:00' '16:15:00' '13:50:00' '11:45:00' '14:15:00'\n",
      " '08:15:00' '22:20:00' '16:35:00' '15:05:00' '21:10:00' '17:15:00'\n",
      " '13:20:00' '23:10:00' '00:15:00' '20:20:00' '20:15:00' '15:20:00'\n",
      " '12:25:00']\n"
     ]
    }
   ],
   "source": [
    "print(amazon_del[\"Pickup_Time\"].unique())"
   ]
  },
  {
   "cell_type": "markdown",
   "metadata": {},
   "source": [
    "### **Weather**  \n",
    "Based on the info table there are 91 missing values. As observed above they all contain also missing Order_Time values.  "
   ]
  },
  {
   "cell_type": "code",
   "execution_count": 751,
   "metadata": {},
   "outputs": [
    {
     "name": "stdout",
     "output_type": "stream",
     "text": [
      "<class 'pandas.core.frame.DataFrame'>\n",
      "Index: 90 entries, 23961 to 5142\n",
      "Data columns (total 16 columns):\n",
      " #   Column           Non-Null Count  Dtype         \n",
      "---  ------           --------------  -----         \n",
      " 0   Order_ID         90 non-null     object        \n",
      " 1   Agent_Age        90 non-null     int64         \n",
      " 2   Agent_Rating     90 non-null     float64       \n",
      " 3   Store_Latitude   90 non-null     float64       \n",
      " 4   Store_Longitude  90 non-null     float64       \n",
      " 5   Drop_Latitude    90 non-null     float64       \n",
      " 6   Drop_Longitude   90 non-null     float64       \n",
      " 7   Order_Date       90 non-null     datetime64[ns]\n",
      " 8   Order_Time       0 non-null      object        \n",
      " 9   Pickup_Time      90 non-null     object        \n",
      " 10  Weather          0 non-null      object        \n",
      " 11  Traffic          90 non-null     object        \n",
      " 12  Vehicle          90 non-null     object        \n",
      " 13  Area             90 non-null     object        \n",
      " 14  Delivery_Time    90 non-null     int64         \n",
      " 15  Category         90 non-null     object        \n",
      "dtypes: datetime64[ns](1), float64(5), int64(2), object(8)\n",
      "memory usage: 12.0+ KB\n",
      "None\n"
     ]
    }
   ],
   "source": [
    "missing_weather = amazon_del[amazon_del[\"Weather\"].isna()]\n",
    "print(missing_weather.info())"
   ]
  },
  {
   "cell_type": "code",
   "execution_count": 752,
   "metadata": {},
   "outputs": [
    {
     "data": {
      "text/html": [
       "<div>\n",
       "<style scoped>\n",
       "    .dataframe tbody tr th:only-of-type {\n",
       "        vertical-align: middle;\n",
       "    }\n",
       "\n",
       "    .dataframe tbody tr th {\n",
       "        vertical-align: top;\n",
       "    }\n",
       "\n",
       "    .dataframe thead th {\n",
       "        text-align: right;\n",
       "    }\n",
       "</style>\n",
       "<table border=\"1\" class=\"dataframe\">\n",
       "  <thead>\n",
       "    <tr style=\"text-align: right;\">\n",
       "      <th></th>\n",
       "      <th>Order_ID</th>\n",
       "      <th>Agent_Age</th>\n",
       "      <th>Agent_Rating</th>\n",
       "      <th>Store_Latitude</th>\n",
       "      <th>Store_Longitude</th>\n",
       "      <th>Drop_Latitude</th>\n",
       "      <th>Drop_Longitude</th>\n",
       "      <th>Order_Date</th>\n",
       "      <th>Order_Time</th>\n",
       "      <th>Pickup_Time</th>\n",
       "      <th>Weather</th>\n",
       "      <th>Traffic</th>\n",
       "      <th>Vehicle</th>\n",
       "      <th>Area</th>\n",
       "      <th>Delivery_Time</th>\n",
       "      <th>Category</th>\n",
       "    </tr>\n",
       "  </thead>\n",
       "  <tbody>\n",
       "    <tr>\n",
       "      <th>23961</th>\n",
       "      <td>eeyk326024665</td>\n",
       "      <td>50</td>\n",
       "      <td>6.0</td>\n",
       "      <td>26.482581</td>\n",
       "      <td>80.315628</td>\n",
       "      <td>26.612581</td>\n",
       "      <td>80.445628</td>\n",
       "      <td>2022-02-12</td>\n",
       "      <td>NaN</td>\n",
       "      <td>18:30:00</td>\n",
       "      <td>NaN</td>\n",
       "      <td>NaN</td>\n",
       "      <td>scooter</td>\n",
       "      <td>Metropolitian</td>\n",
       "      <td>205</td>\n",
       "      <td>Toys</td>\n",
       "    </tr>\n",
       "    <tr>\n",
       "      <th>40259</th>\n",
       "      <td>olcr332145993</td>\n",
       "      <td>50</td>\n",
       "      <td>6.0</td>\n",
       "      <td>-26.490950</td>\n",
       "      <td>-80.318656</td>\n",
       "      <td>26.520950</td>\n",
       "      <td>80.348656</td>\n",
       "      <td>2022-02-13</td>\n",
       "      <td>NaN</td>\n",
       "      <td>00:00:00</td>\n",
       "      <td>NaN</td>\n",
       "      <td>NaN</td>\n",
       "      <td>scooter</td>\n",
       "      <td>Metropolitian</td>\n",
       "      <td>75</td>\n",
       "      <td>Skincare</td>\n",
       "    </tr>\n",
       "    <tr>\n",
       "      <th>10308</th>\n",
       "      <td>rbar521574272</td>\n",
       "      <td>50</td>\n",
       "      <td>6.0</td>\n",
       "      <td>0.000000</td>\n",
       "      <td>0.000000</td>\n",
       "      <td>0.020000</td>\n",
       "      <td>0.020000</td>\n",
       "      <td>2022-02-13</td>\n",
       "      <td>NaN</td>\n",
       "      <td>08:50:00</td>\n",
       "      <td>NaN</td>\n",
       "      <td>NaN</td>\n",
       "      <td>scooter</td>\n",
       "      <td>Metropolitian</td>\n",
       "      <td>125</td>\n",
       "      <td>Sports</td>\n",
       "    </tr>\n",
       "    <tr>\n",
       "      <th>5418</th>\n",
       "      <td>jzlx800086920</td>\n",
       "      <td>50</td>\n",
       "      <td>6.0</td>\n",
       "      <td>-27.159795</td>\n",
       "      <td>-78.042990</td>\n",
       "      <td>27.209795</td>\n",
       "      <td>78.092990</td>\n",
       "      <td>2022-02-13</td>\n",
       "      <td>NaN</td>\n",
       "      <td>18:05:00</td>\n",
       "      <td>NaN</td>\n",
       "      <td>NaN</td>\n",
       "      <td>scooter</td>\n",
       "      <td>Metropolitian</td>\n",
       "      <td>100</td>\n",
       "      <td>Electronics</td>\n",
       "    </tr>\n",
       "    <tr>\n",
       "      <th>33289</th>\n",
       "      <td>bhiq449854908</td>\n",
       "      <td>50</td>\n",
       "      <td>6.0</td>\n",
       "      <td>-27.158822</td>\n",
       "      <td>-78.045359</td>\n",
       "      <td>27.248822</td>\n",
       "      <td>78.135359</td>\n",
       "      <td>2022-02-14</td>\n",
       "      <td>NaN</td>\n",
       "      <td>23:55:00</td>\n",
       "      <td>NaN</td>\n",
       "      <td>NaN</td>\n",
       "      <td>van</td>\n",
       "      <td>Urban</td>\n",
       "      <td>80</td>\n",
       "      <td>Pet Supplies</td>\n",
       "    </tr>\n",
       "  </tbody>\n",
       "</table>\n",
       "</div>"
      ],
      "text/plain": [
       "            Order_ID  Agent_Age  Agent_Rating  Store_Latitude  \\\n",
       "23961  eeyk326024665         50           6.0       26.482581   \n",
       "40259  olcr332145993         50           6.0      -26.490950   \n",
       "10308  rbar521574272         50           6.0        0.000000   \n",
       "5418   jzlx800086920         50           6.0      -27.159795   \n",
       "33289  bhiq449854908         50           6.0      -27.158822   \n",
       "\n",
       "       Store_Longitude  Drop_Latitude  Drop_Longitude Order_Date Order_Time  \\\n",
       "23961        80.315628      26.612581       80.445628 2022-02-12        NaN   \n",
       "40259       -80.318656      26.520950       80.348656 2022-02-13        NaN   \n",
       "10308         0.000000       0.020000        0.020000 2022-02-13        NaN   \n",
       "5418        -78.042990      27.209795       78.092990 2022-02-13        NaN   \n",
       "33289       -78.045359      27.248822       78.135359 2022-02-14        NaN   \n",
       "\n",
       "      Pickup_Time Weather Traffic   Vehicle            Area  Delivery_Time  \\\n",
       "23961    18:30:00     NaN    NaN   scooter   Metropolitian             205   \n",
       "40259    00:00:00     NaN    NaN   scooter   Metropolitian              75   \n",
       "10308    08:50:00     NaN    NaN   scooter   Metropolitian             125   \n",
       "5418     18:05:00     NaN    NaN   scooter   Metropolitian             100   \n",
       "33289    23:55:00     NaN    NaN        van          Urban              80   \n",
       "\n",
       "           Category  \n",
       "23961          Toys  \n",
       "40259      Skincare  \n",
       "10308        Sports  \n",
       "5418    Electronics  \n",
       "33289  Pet Supplies  "
      ]
     },
     "execution_count": 752,
     "metadata": {},
     "output_type": "execute_result"
    }
   ],
   "source": [
    "missing_weather.head()"
   ]
  },
  {
   "cell_type": "code",
   "execution_count": 753,
   "metadata": {},
   "outputs": [
    {
     "data": {
      "text/plain": [
       "array(['Low ', 'Medium ', 'High ', 'Jam ', 'NaN '], dtype=object)"
      ]
     },
     "execution_count": 753,
     "metadata": {},
     "output_type": "execute_result"
    }
   ],
   "source": [
    "amazon_del[\"Traffic\"].unique()"
   ]
  },
  {
   "cell_type": "markdown",
   "metadata": {},
   "source": [
    "Actually, Traffic also have NaN values due again to a white space."
   ]
  },
  {
   "cell_type": "code",
   "execution_count": 754,
   "metadata": {},
   "outputs": [
    {
     "name": "stdout",
     "output_type": "stream",
     "text": [
      "['NaN']\n"
     ]
    },
    {
     "name": "stderr",
     "output_type": "stream",
     "text": [
      "C:\\Users\\Angelique\\AppData\\Local\\Temp\\ipykernel_5424\\3635599610.py:2: SettingWithCopyWarning: \n",
      "A value is trying to be set on a copy of a slice from a DataFrame.\n",
      "Try using .loc[row_indexer,col_indexer] = value instead\n",
      "\n",
      "See the caveats in the documentation: https://pandas.pydata.org/pandas-docs/stable/user_guide/indexing.html#returning-a-view-versus-a-copy\n",
      "  missing_weather[\"Traffic\"] = missing_weather[\"Traffic\"].str.strip()\n"
     ]
    }
   ],
   "source": [
    "amazon_del[\"Traffic\"] = amazon_del[\"Traffic\"].str.strip()\n",
    "missing_weather[\"Traffic\"] = missing_weather[\"Traffic\"].str.strip()\n",
    "print(missing_weather[\"Traffic\"].unique())"
   ]
  },
  {
   "cell_type": "code",
   "execution_count": 755,
   "metadata": {},
   "outputs": [
    {
     "name": "stderr",
     "output_type": "stream",
     "text": [
      "C:\\Users\\Angelique\\AppData\\Local\\Temp\\ipykernel_5424\\630223040.py:1: FutureWarning: Downcasting behavior in `replace` is deprecated and will be removed in a future version. To retain the old behavior, explicitly call `result.infer_objects(copy=False)`. To opt-in to the future behavior, set `pd.set_option('future.no_silent_downcasting', True)`\n",
      "  missing_weather[\"Traffic\"] = missing_weather[\"Traffic\"].replace(\"NaN\", np.nan)\n",
      "C:\\Users\\Angelique\\AppData\\Local\\Temp\\ipykernel_5424\\630223040.py:1: SettingWithCopyWarning: \n",
      "A value is trying to be set on a copy of a slice from a DataFrame.\n",
      "Try using .loc[row_indexer,col_indexer] = value instead\n",
      "\n",
      "See the caveats in the documentation: https://pandas.pydata.org/pandas-docs/stable/user_guide/indexing.html#returning-a-view-versus-a-copy\n",
      "  missing_weather[\"Traffic\"] = missing_weather[\"Traffic\"].replace(\"NaN\", np.nan)\n"
     ]
    }
   ],
   "source": [
    "missing_weather[\"Traffic\"] = missing_weather[\"Traffic\"].replace(\"NaN\", np.nan)"
   ]
  },
  {
   "cell_type": "code",
   "execution_count": 756,
   "metadata": {},
   "outputs": [
    {
     "name": "stdout",
     "output_type": "stream",
     "text": [
      "<class 'pandas.core.frame.DataFrame'>\n",
      "Index: 90 entries, 23961 to 5142\n",
      "Data columns (total 16 columns):\n",
      " #   Column           Non-Null Count  Dtype         \n",
      "---  ------           --------------  -----         \n",
      " 0   Order_ID         90 non-null     object        \n",
      " 1   Agent_Age        90 non-null     int64         \n",
      " 2   Agent_Rating     90 non-null     float64       \n",
      " 3   Store_Latitude   90 non-null     float64       \n",
      " 4   Store_Longitude  90 non-null     float64       \n",
      " 5   Drop_Latitude    90 non-null     float64       \n",
      " 6   Drop_Longitude   90 non-null     float64       \n",
      " 7   Order_Date       90 non-null     datetime64[ns]\n",
      " 8   Order_Time       0 non-null      object        \n",
      " 9   Pickup_Time      90 non-null     object        \n",
      " 10  Weather          0 non-null      object        \n",
      " 11  Traffic          0 non-null      float64       \n",
      " 12  Vehicle          90 non-null     object        \n",
      " 13  Area             90 non-null     object        \n",
      " 14  Delivery_Time    90 non-null     int64         \n",
      " 15  Category         90 non-null     object        \n",
      "dtypes: datetime64[ns](1), float64(6), int64(2), object(7)\n",
      "memory usage: 12.0+ KB\n"
     ]
    }
   ],
   "source": [
    "missing_weather.info()\n",
    "\n",
    "#with open(\"missing_weather.pkl\",\"wb\") as f:\n",
    " #   pickle.dump(missing_weather, f)"
   ]
  },
  {
   "cell_type": "markdown",
   "metadata": {},
   "source": [
    "### **Traffic**  \n",
    "I know from the missing weather data that none of the missing weather rows contain a value for Traffic (neither they do for Order_Time)."
   ]
  },
  {
   "cell_type": "code",
   "execution_count": 757,
   "metadata": {},
   "outputs": [
    {
     "name": "stdout",
     "output_type": "stream",
     "text": [
      "['Low' 'Medium' 'High' 'Jam' 'NaN']\n",
      "0\n"
     ]
    }
   ],
   "source": [
    "print(amazon_del[\"Traffic\"].unique())\n",
    "print(amazon_del[\"Traffic\"].isna().sum())"
   ]
  },
  {
   "cell_type": "markdown",
   "metadata": {},
   "source": [
    "NaN is not interpreted as none. "
   ]
  },
  {
   "cell_type": "code",
   "execution_count": 758,
   "metadata": {},
   "outputs": [],
   "source": [
    "amazon_del[\"Traffic\"] = amazon_del[\"Traffic\"].replace(\"NaN\", np.nan)"
   ]
  },
  {
   "cell_type": "code",
   "execution_count": 759,
   "metadata": {},
   "outputs": [
    {
     "name": "stdout",
     "output_type": "stream",
     "text": [
      "Index(['High', 'Jam', 'Low', 'Medium'], dtype='object')\n"
     ]
    }
   ],
   "source": [
    "amazon_del[\"Traffic\"] = amazon_del[\"Traffic\"].astype(\"category\")\n",
    "print(amazon_del[\"Traffic\"].cat.categories)"
   ]
  },
  {
   "cell_type": "code",
   "execution_count": 760,
   "metadata": {},
   "outputs": [
    {
     "name": "stdout",
     "output_type": "stream",
     "text": [
      "Traffic\n",
      "Low       14739\n",
      "Jam       13710\n",
      "Medium    10614\n",
      "High       4217\n",
      "NaN          90\n",
      "Name: count, dtype: int64\n"
     ]
    }
   ],
   "source": [
    "traffic_order = [\"Low\",\"Medium\",\"Jam\",\"High\"]\n",
    "amazon_del[\"Traffic\"] = amazon_del[\"Traffic\"].cat.reorder_categories(new_categories=traffic_order, ordered=True)\n",
    "print(amazon_del[\"Traffic\"].value_counts(dropna=False))"
   ]
  },
  {
   "cell_type": "markdown",
   "metadata": {},
   "source": [
    "It is interesting to note that missing values of Traffic, Order Time (but not Order_Date) and Weather are all together missing.  \n",
    "I have saved the missing weather values so I can study it on another Jupyter notebook."
   ]
  },
  {
   "cell_type": "markdown",
   "metadata": {},
   "source": [
    "### **Vehicle**"
   ]
  },
  {
   "cell_type": "code",
   "execution_count": 761,
   "metadata": {},
   "outputs": [
    {
     "data": {
      "text/plain": [
       "array(['scooter ', 'motorcycle ', 'van', 'bicycle '], dtype=object)"
      ]
     },
     "execution_count": 761,
     "metadata": {},
     "output_type": "execute_result"
    }
   ],
   "source": [
    "amazon_del[\"Vehicle\"].unique()"
   ]
  },
  {
   "cell_type": "code",
   "execution_count": 762,
   "metadata": {},
   "outputs": [
    {
     "name": "stdout",
     "output_type": "stream",
     "text": [
      "['scooter' 'motorcycle' 'van' 'bicycle']\n"
     ]
    }
   ],
   "source": [
    "amazon_del[\"Vehicle\"] = amazon_del[\"Vehicle\"].str.strip()\n",
    "print(amazon_del[\"Vehicle\"].unique())"
   ]
  },
  {
   "cell_type": "code",
   "execution_count": 763,
   "metadata": {},
   "outputs": [],
   "source": [
    "order_vehicle = [\"bicycle\", \"scooter\", \"motorcycle\",\"van\"]\n",
    "amazon_del[\"Vehicle\"] = amazon_del[\"Vehicle\"].astype(\"category\")\n",
    "amazon_del[\"Vehicle\"] = amazon_del[\"Vehicle\"].cat.reorder_categories(new_categories=order_vehicle, ordered=True)"
   ]
  },
  {
   "cell_type": "code",
   "execution_count": 764,
   "metadata": {},
   "outputs": [
    {
     "data": {
      "text/plain": [
       "Vehicle\n",
       "motorcycle    25323\n",
       "scooter       14511\n",
       "van            3522\n",
       "bicycle          14\n",
       "Name: count, dtype: int64"
      ]
     },
     "execution_count": 764,
     "metadata": {},
     "output_type": "execute_result"
    }
   ],
   "source": [
    "amazon_del[\"Vehicle\"].value_counts()"
   ]
  },
  {
   "cell_type": "markdown",
   "metadata": {},
   "source": [
    "### **Area**"
   ]
  },
  {
   "cell_type": "code",
   "execution_count": 765,
   "metadata": {},
   "outputs": [
    {
     "data": {
      "text/plain": [
       "array(['Urban ', 'Metropolitian ', 'Other', 'Semi-Urban '], dtype=object)"
      ]
     },
     "execution_count": 765,
     "metadata": {},
     "output_type": "execute_result"
    }
   ],
   "source": [
    "amazon_del[\"Area\"].unique()"
   ]
  },
  {
   "cell_type": "code",
   "execution_count": 766,
   "metadata": {},
   "outputs": [],
   "source": [
    "amazon_del[\"Area\"] = amazon_del[\"Area\"].str.strip()\n"
   ]
  },
  {
   "cell_type": "code",
   "execution_count": 767,
   "metadata": {},
   "outputs": [
    {
     "name": "stdout",
     "output_type": "stream",
     "text": [
      "Area\n",
      "Metropolitan    32446\n",
      "Urban            9643\n",
      "Other            1129\n",
      "Semi-Urban        152\n",
      "Name: count, dtype: int64\n"
     ]
    }
   ],
   "source": [
    "amazon_del[\"Area\"] = amazon_del[\"Area\"].replace(\"Metropolitian\",\"Metropolitan\")\n",
    "order_Area = [\"Other\",\"Semi-Urban\",\"Urban\",\"Metropolitan\"]\n",
    "amazon_del[\"Area\"] = amazon_del[\"Area\"].astype(\"category\")\n",
    "amazon_del[\"Area\"] = amazon_del[\"Area\"].cat.reorder_categories(new_categories=order_Area, ordered=True)\n",
    "print(amazon_del[\"Area\"].value_counts(dropna=False))\n"
   ]
  },
  {
   "cell_type": "markdown",
   "metadata": {},
   "source": [
    "### **Delivery_Time**  \n",
    "No apparent missing values. That will be my dependent variable."
   ]
  },
  {
   "cell_type": "code",
   "execution_count": 768,
   "metadata": {},
   "outputs": [
    {
     "name": "stdout",
     "output_type": "stream",
     "text": [
      "count    43370.000000\n",
      "mean       125.081185\n",
      "std         51.973164\n",
      "min         10.000000\n",
      "25%         90.000000\n",
      "50%        125.000000\n",
      "75%        160.000000\n",
      "max        270.000000\n",
      "Name: Delivery_Time, dtype: float64\n"
     ]
    }
   ],
   "source": [
    "print(amazon_del[\"Delivery_Time\"].describe())"
   ]
  },
  {
   "cell_type": "markdown",
   "metadata": {},
   "source": [
    "### **Category**  \n",
    "No apparent missing values.  "
   ]
  },
  {
   "cell_type": "code",
   "execution_count": 769,
   "metadata": {},
   "outputs": [
    {
     "data": {
      "text/plain": [
       "array(['Toys', 'Cosmetics', 'Sports', 'Electronics', 'Books', 'Clothing',\n",
       "       'Outdoors', 'Grocery', 'Apparel', 'Shoes', 'Kitchen', 'Skincare',\n",
       "       'Home', 'Jewelry', 'Pet Supplies', 'Snacks'], dtype=object)"
      ]
     },
     "execution_count": 769,
     "metadata": {},
     "output_type": "execute_result"
    }
   ],
   "source": [
    "amazon_del[\"Category\"].unique()"
   ]
  },
  {
   "cell_type": "markdown",
   "metadata": {},
   "source": [
    "## **Creating a column for distance between the store point and the drop point**"
   ]
  },
  {
   "cell_type": "code",
   "execution_count": 770,
   "metadata": {},
   "outputs": [
    {
     "name": "stdout",
     "output_type": "stream",
     "text": [
      "count    43370.000000\n",
      "mean        38.342671\n",
      "std        534.363998\n",
      "min          1.465069\n",
      "25%          4.674181\n",
      "50%          9.313030\n",
      "75%         13.735948\n",
      "max      19692.701807\n",
      "Name: Distance_Store_Drop_km, dtype: float64\n"
     ]
    }
   ],
   "source": [
    "\n",
    "distance = []\n",
    "for loc1,loc2 in zip(zip(amazon_del[\"Store_Latitude\"],amazon_del[\"Store_Longitude\"]),\\\n",
    "                     zip(amazon_del[\"Drop_Latitude\"],amazon_del[\"Drop_Longitude\"])):\n",
    "    dist = hs.haversine(loc1,loc2, unit=Unit.KILOMETERS)\n",
    "    distance.append(dist)\n",
    "    \n",
    "amazon_del[\"Distance_Store_Drop_km\"] = distance\n",
    "print(amazon_del[\"Distance_Store_Drop_km\"].describe())"
   ]
  },
  {
   "cell_type": "markdown",
   "metadata": {},
   "source": [
    "The max distance is aberrantly high. I will see how many of these I have and if I can remove them."
   ]
  },
  {
   "cell_type": "code",
   "execution_count": 771,
   "metadata": {},
   "outputs": [
    {
     "name": "stdout",
     "output_type": "stream",
     "text": [
      "<class 'pandas.core.frame.DataFrame'>\n",
      "Index: 183 entries, 31765 to 4514\n",
      "Data columns (total 17 columns):\n",
      " #   Column                  Non-Null Count  Dtype         \n",
      "---  ------                  --------------  -----         \n",
      " 0   Order_ID                183 non-null    object        \n",
      " 1   Agent_Age               183 non-null    int64         \n",
      " 2   Agent_Rating            183 non-null    float64       \n",
      " 3   Store_Latitude          183 non-null    float64       \n",
      " 4   Store_Longitude         183 non-null    float64       \n",
      " 5   Drop_Latitude           183 non-null    float64       \n",
      " 6   Drop_Longitude          183 non-null    float64       \n",
      " 7   Order_Date              183 non-null    datetime64[ns]\n",
      " 8   Order_Time              151 non-null    object        \n",
      " 9   Pickup_Time             183 non-null    object        \n",
      " 10  Weather                 151 non-null    object        \n",
      " 11  Traffic                 151 non-null    category      \n",
      " 12  Vehicle                 183 non-null    category      \n",
      " 13  Area                    183 non-null    category      \n",
      " 14  Delivery_Time           183 non-null    int64         \n",
      " 15  Category                183 non-null    object        \n",
      " 16  Distance_Store_Drop_km  183 non-null    float64       \n",
      "dtypes: category(3), datetime64[ns](1), float64(6), int64(2), object(5)\n",
      "memory usage: 22.6+ KB\n",
      "None\n",
      "27.328598682947003\n",
      "count      183.000000\n",
      "mean      6775.900325\n",
      "std       4711.467596\n",
      "min       2216.068855\n",
      "25%       4423.349282\n",
      "50%       5173.323369\n",
      "75%       6748.175550\n",
      "max      19692.701807\n",
      "Name: Distance_Store_Drop_km, dtype: float64\n"
     ]
    }
   ],
   "source": [
    "iqr_dist = np.quantile(amazon_del[\"Distance_Store_Drop_km\"],0.75) - np.quantile(amazon_del[\"Distance_Store_Drop_km\"],0.25)\n",
    "sup_outlier_dist = np.quantile(amazon_del[\"Distance_Store_Drop_km\"], 0.75) + 1.5*iqr_dist\n",
    "dist_outliers_sup = amazon_del[amazon_del[\"Distance_Store_Drop_km\"] > sup_outlier_dist]\n",
    "\n",
    "print(dist_outliers_sup.info())\n",
    "print(sup_outlier_dist)\n",
    "print(dist_outliers_sup[\"Distance_Store_Drop_km\"].describe())"
   ]
  },
  {
   "cell_type": "code",
   "execution_count": 772,
   "metadata": {},
   "outputs": [
    {
     "name": "stdout",
     "output_type": "stream",
     "text": [
      "count    183.000000\n",
      "mean     -21.487587\n",
      "std        6.184380\n",
      "min      -30.902872\n",
      "25%      -26.472849\n",
      "50%      -22.538999\n",
      "75%      -15.569600\n",
      "max       -9.959778\n",
      "Name: Store_Latitude, dtype: float64\n",
      "count    183.000000\n",
      "mean      55.696719\n",
      "std       56.227809\n",
      "min      -88.366217\n",
      "25%       73.950889\n",
      "50%       76.307589\n",
      "75%       80.318244\n",
      "max       88.433452\n",
      "Name: Store_Longitude, dtype: float64\n"
     ]
    }
   ],
   "source": [
    "print(dist_outliers_sup[\"Store_Latitude\"].describe())\n",
    "print(dist_outliers_sup[\"Store_Longitude\"].describe())"
   ]
  },
  {
   "cell_type": "markdown",
   "metadata": {},
   "source": [
    "I will save the file separately so I can work on it to try to figure why there was a coordinate problem."
   ]
  },
  {
   "cell_type": "code",
   "execution_count": 773,
   "metadata": {},
   "outputs": [],
   "source": [
    "#with open(\"dist_outliers_sup.pkl\",\"wb\") as f:\n",
    "#   pickle.dump(dist_outliers_sup, f)"
   ]
  },
  {
   "cell_type": "code",
   "execution_count": 774,
   "metadata": {},
   "outputs": [
    {
     "name": "stdout",
     "output_type": "stream",
     "text": [
      "count    43187.000000\n",
      "mean        17.504099\n",
      "std          7.212164\n",
      "min          0.000000\n",
      "25%         12.934365\n",
      "50%         18.562450\n",
      "75%         22.732225\n",
      "max         30.914057\n",
      "Name: Store_Latitude, dtype: float64\n",
      "count    43187.000000\n",
      "mean        71.247481\n",
      "std         20.366011\n",
      "min          0.000000\n",
      "25%         73.742294\n",
      "50%         75.902847\n",
      "75%         78.046106\n",
      "max         88.433452\n",
      "Name: Store_Longitude, dtype: float64\n",
      "India\n"
     ]
    }
   ],
   "source": [
    "no_outliers = amazon_del[~(amazon_del[\"Distance_Store_Drop_km\"] >= sup_outlier_dist)]\n",
    "print(no_outliers[\"Store_Latitude\"].describe())\n",
    "print(no_outliers[\"Store_Longitude\"].describe())\n",
    "\n",
    "loc = Location(18.5,75.9)\n",
    "print(loc.country())\n"
   ]
  },
  {
   "cell_type": "code",
   "execution_count": 775,
   "metadata": {},
   "outputs": [
    {
     "name": "stdout",
     "output_type": "stream",
     "text": [
      "<class 'pandas.core.frame.DataFrame'>\n",
      "Index: 3180 entries, 659 to 41055\n",
      "Data columns (total 17 columns):\n",
      " #   Column                  Non-Null Count  Dtype         \n",
      "---  ------                  --------------  -----         \n",
      " 0   Order_ID                3180 non-null   object        \n",
      " 1   Agent_Age               3180 non-null   int64         \n",
      " 2   Agent_Rating            3180 non-null   float64       \n",
      " 3   Store_Latitude          3180 non-null   float64       \n",
      " 4   Store_Longitude         3180 non-null   float64       \n",
      " 5   Drop_Latitude           3180 non-null   float64       \n",
      " 6   Drop_Longitude          3180 non-null   float64       \n",
      " 7   Order_Date              3180 non-null   datetime64[ns]\n",
      " 8   Order_Time              3171 non-null   object        \n",
      " 9   Pickup_Time             3180 non-null   object        \n",
      " 10  Weather                 3171 non-null   object        \n",
      " 11  Traffic                 3171 non-null   category      \n",
      " 12  Vehicle                 3180 non-null   category      \n",
      " 13  Area                    3180 non-null   category      \n",
      " 14  Delivery_Time           3180 non-null   int64         \n",
      " 15  Category                3180 non-null   object        \n",
      " 16  Distance_Store_Drop_km  3180 non-null   float64       \n",
      "dtypes: category(3), datetime64[ns](1), float64(6), int64(2), object(5)\n",
      "memory usage: 382.6+ KB\n",
      "None\n",
      "count    3180.000000\n",
      "mean       10.750605\n",
      "std         5.268926\n",
      "min         3.145072\n",
      "25%         6.290143\n",
      "50%        11.007750\n",
      "75%        14.152820\n",
      "max        20.442958\n",
      "Name: Distance_Store_Drop_km, dtype: float64\n",
      "0.07332257320728615\n"
     ]
    }
   ],
   "source": [
    "no_outliers_Store_LatLong_0 = no_outliers[(no_outliers[\"Store_Latitude\"] == 0) | (no_outliers[\"Store_Longitude\"] == 0)]\n",
    "print(no_outliers_Store_LatLong_0.info())\n",
    "print(no_outliers_Store_LatLong_0[\"Distance_Store_Drop_km\"].describe())\n",
    "print(len(no_outliers_Store_LatLong_0)/len(amazon_del))"
   ]
  },
  {
   "cell_type": "code",
   "execution_count": 776,
   "metadata": {},
   "outputs": [
    {
     "name": "stdout",
     "output_type": "stream",
     "text": [
      "            Order_ID  Agent_Age  Agent_Rating  Store_Latitude  \\\n",
      "659    onok376892035         24           4.7             0.0   \n",
      "2318   pvmm816055638         38           4.8             0.0   \n",
      "40004  zytn364905408         36           4.6             0.0   \n",
      "36364  wvxz779552767         36           4.7             0.0   \n",
      "41921  blof354135967         32           4.8             0.0   \n",
      "19464  dckd072587472         30           4.8             0.0   \n",
      "36384  ihrp438792697         27           4.7             0.0   \n",
      "18623  nfcv982371453         23           4.8             0.0   \n",
      "9584   ojsd956970155         22           4.3             0.0   \n",
      "735    vjso332723361         32           4.0             0.0   \n",
      "\n",
      "       Store_Longitude  Drop_Latitude  Drop_Longitude Order_Date Order_Time  \\\n",
      "659                0.0           0.02            0.02 2022-02-11   10:40:00   \n",
      "2318               0.0           0.06            0.06 2022-02-11   21:10:00   \n",
      "40004              0.0           0.05            0.05 2022-02-11   21:15:00   \n",
      "36364              0.0           0.05            0.05 2022-02-11   17:40:00   \n",
      "41921              0.0           0.02            0.02 2022-02-11   11:50:00   \n",
      "19464              0.0           0.06            0.06 2022-02-11   18:45:00   \n",
      "36384              0.0           0.02            0.02 2022-02-11   11:00:00   \n",
      "18623              0.0           0.05            0.05 2022-02-11   21:30:00   \n",
      "9584               0.0           0.04            0.04 2022-02-11   14:45:00   \n",
      "735                0.0           0.03            0.03 2022-02-11   21:30:00   \n",
      "\n",
      "      Pickup_Time     Weather Traffic     Vehicle          Area  \\\n",
      "659      10:45:00       Windy     Low     scooter  Metropolitan   \n",
      "2318     21:20:00       Sunny     Jam  motorcycle  Metropolitan   \n",
      "40004    21:25:00  Sandstorms     Jam     scooter  Metropolitan   \n",
      "36364    17:45:00      Cloudy  Medium     scooter  Metropolitan   \n",
      "41921    12:00:00       Sunny    High  motorcycle  Metropolitan   \n",
      "19464    18:55:00       Windy  Medium         van  Metropolitan   \n",
      "36384    11:05:00         Fog     Low  motorcycle  Metropolitan   \n",
      "18623    21:45:00      Stormy     Jam  motorcycle         Other   \n",
      "9584     15:00:00       Sunny    High  motorcycle  Metropolitan   \n",
      "735      21:45:00  Sandstorms     Jam  motorcycle  Metropolitan   \n",
      "\n",
      "       Delivery_Time   Category  Distance_Store_Drop_km  \n",
      "659               80   Clothing                3.145072  \n",
      "2318              20    Grocery                9.435215  \n",
      "40004            150      Shoes                7.862679  \n",
      "36364             90  Cosmetics                7.862679  \n",
      "41921            100    Kitchen                3.145072  \n",
      "19464            125     Snacks                9.435215  \n",
      "36384             17    Grocery                3.145072  \n",
      "18623             80       Toys                7.862679  \n",
      "9584             215    Jewelry                6.290143  \n",
      "735              230      Shoes                4.717608  \n"
     ]
    }
   ],
   "source": [
    "print(no_outliers_Store_LatLong_0.head(10))"
   ]
  },
  {
   "cell_type": "markdown",
   "metadata": {},
   "source": [
    "We have again here a problem with the coordinates. The app couldn't measure the Store coordinates but somehow was able to calculate the drop coordinates I guess based on the departure point.  \n",
    "I will keep this data as well separately so I can analyse why."
   ]
  },
  {
   "cell_type": "code",
   "execution_count": 777,
   "metadata": {},
   "outputs": [],
   "source": [
    "#with open(\"Store_LatLong_null.pkl\",\"wb\") as f:\n",
    "#   pickle.dump(no_outliers_Store_LatLong_0, f)"
   ]
  },
  {
   "cell_type": "markdown",
   "metadata": {},
   "source": [
    "Our data outside the outliers is based (or mainly) in India. I will therefore switch to the positive coordinates and recalculate the distance."
   ]
  },
  {
   "cell_type": "code",
   "execution_count": 778,
   "metadata": {},
   "outputs": [],
   "source": [
    "amazon_del[\"abs_Store_Latitude\"] = abs(amazon_del[\"Store_Latitude\"])\n",
    "amazon_del[\"abs_Store_Longitude\"] = abs(amazon_del[\"Store_Longitude\"])\n"
   ]
  },
  {
   "cell_type": "code",
   "execution_count": 779,
   "metadata": {},
   "outputs": [
    {
     "name": "stdout",
     "output_type": "stream",
     "text": [
      "count    43370.000000\n",
      "mean         9.791778\n",
      "std          5.580934\n",
      "min          1.465069\n",
      "25%          4.674158\n",
      "50%          9.220847\n",
      "75%         13.681651\n",
      "max         20.969518\n",
      "Name: Distance_Store_Drop_km, dtype: float64\n"
     ]
    }
   ],
   "source": [
    "distance = []\n",
    "for loc1,loc2 in zip(zip(amazon_del[\"abs_Store_Latitude\"],amazon_del[\"abs_Store_Longitude\"]),\\\n",
    "                     zip(amazon_del[\"Drop_Latitude\"],amazon_del[\"Drop_Longitude\"])):\n",
    "    dist = hs.haversine(loc1,loc2, unit=Unit.KILOMETERS)\n",
    "    distance.append(dist)\n",
    "    \n",
    "amazon_del[\"Distance_Store_Drop_km\"] = distance\n",
    "\n",
    "print(amazon_del[\"Distance_Store_Drop_km\"].describe())"
   ]
  },
  {
   "cell_type": "markdown",
   "metadata": {},
   "source": [
    "## **Saving the new amazon_delivery dataset**  \n",
    "I will save a new amazon_del dataset. I will remove the weather null data as wel as the original Store coordinates and replace them with the absolute values.  "
   ]
  },
  {
   "cell_type": "code",
   "execution_count": 780,
   "metadata": {},
   "outputs": [
    {
     "name": "stdout",
     "output_type": "stream",
     "text": [
      "<class 'pandas.core.frame.DataFrame'>\n",
      "Index: 43280 entries, 23614 to 18228\n",
      "Data columns (total 17 columns):\n",
      " #   Column                  Non-Null Count  Dtype         \n",
      "---  ------                  --------------  -----         \n",
      " 0   Order_ID                43280 non-null  object        \n",
      " 1   Agent_Age               43280 non-null  int64         \n",
      " 2   Agent_Rating            43280 non-null  float64       \n",
      " 3   Drop_Latitude           43280 non-null  float64       \n",
      " 4   Drop_Longitude          43280 non-null  float64       \n",
      " 5   Order_Date              43280 non-null  datetime64[ns]\n",
      " 6   Order_Time              43280 non-null  object        \n",
      " 7   Pickup_Time             43280 non-null  object        \n",
      " 8   Weather                 43280 non-null  object        \n",
      " 9   Traffic                 43280 non-null  category      \n",
      " 10  Vehicle                 43280 non-null  category      \n",
      " 11  Area                    43280 non-null  category      \n",
      " 12  Delivery_Time           43280 non-null  int64         \n",
      " 13  Category                43280 non-null  object        \n",
      " 14  Distance_Store_Drop_km  43280 non-null  float64       \n",
      " 15  abs_Store_Latitude      43280 non-null  float64       \n",
      " 16  abs_Store_Longitude     43280 non-null  float64       \n",
      "dtypes: category(3), datetime64[ns](1), float64(6), int64(2), object(5)\n",
      "memory usage: 5.1+ MB\n",
      "None\n"
     ]
    }
   ],
   "source": [
    "amazon_del.drop([\"Store_Latitude\",\"Store_Longitude\"], axis=1, inplace=True)\n",
    "amazon_del = amazon_del[~(amazon_del[\"Weather\"].isna())]\n",
    "print(amazon_del.info())"
   ]
  },
  {
   "cell_type": "code",
   "execution_count": 781,
   "metadata": {},
   "outputs": [
    {
     "name": "stdout",
     "output_type": "stream",
     "text": [
      "['Sunny' 'Sandstorms' 'Fog' 'Windy' 'Stormy' 'Cloudy']\n",
      "<class 'pandas.core.frame.DataFrame'>\n",
      "Index: 43280 entries, 23614 to 18228\n",
      "Data columns (total 17 columns):\n",
      " #   Column                  Non-Null Count  Dtype         \n",
      "---  ------                  --------------  -----         \n",
      " 0   Order_ID                43280 non-null  object        \n",
      " 1   Agent_Age               43280 non-null  int64         \n",
      " 2   Agent_Rating            43280 non-null  float64       \n",
      " 3   Drop_Latitude           43280 non-null  float64       \n",
      " 4   Drop_Longitude          43280 non-null  float64       \n",
      " 5   Order_Date              43280 non-null  datetime64[ns]\n",
      " 6   Order_Time              43280 non-null  object        \n",
      " 7   Pickup_Time             43280 non-null  object        \n",
      " 8   Weather                 43280 non-null  category      \n",
      " 9   Traffic                 43280 non-null  category      \n",
      " 10  Vehicle                 43280 non-null  category      \n",
      " 11  Area                    43280 non-null  category      \n",
      " 12  Delivery_Time           43280 non-null  int64         \n",
      " 13  Category                43280 non-null  object        \n",
      " 14  Distance_Store_Drop_km  43280 non-null  float64       \n",
      " 15  abs_Store_Latitude      43280 non-null  float64       \n",
      " 16  abs_Store_Longitude     43280 non-null  float64       \n",
      "dtypes: category(4), datetime64[ns](1), float64(6), int64(2), object(4)\n",
      "memory usage: 4.8+ MB\n",
      "None\n"
     ]
    }
   ],
   "source": [
    "print(amazon_del[\"Weather\"].unique())\n",
    "ordered_weather_cat = [\"Sunny\", \"Cloudy\",\"Fog\",\"Windy\",\"Stormy\",\"Sandstorms\"]\n",
    "amazon_del[\"Weather\"] = amazon_del[\"Weather\"].astype(\"category\")\n",
    "amazon_del[\"Weather\"] = amazon_del[\"Weather\"].cat.reorder_categories(new_categories=ordered_weather_cat, ordered=True)\n",
    "print(amazon_del.info())"
   ]
  },
  {
   "cell_type": "code",
   "execution_count": null,
   "metadata": {},
   "outputs": [],
   "source": [
    "#with open(\"amazon_del.pkl\", \"wb\") as f:\n",
    " #   pickle.dump(amazon_del,f)"
   ]
  },
  {
   "cell_type": "markdown",
   "metadata": {},
   "source": [
    "## **Creating a column for city and a column for country**  \n",
    "I have created a module allowing to determine the city and country names using the longitude and latitude."
   ]
  },
  {
   "cell_type": "markdown",
   "metadata": {},
   "source": [
    "### **Creating a column city**  \n",
    "Because the median of the Store coordinates is located in India and that the median distance is 9km, I can confidently conclude that at least most of the data is located in India.  \n",
    "Hence, I will only make a \"city\" column to see if there are discrepancies between cities.  \n",
    "However, the size of the dataset is too large. I will make a sample of 400 rows."
   ]
  },
  {
   "cell_type": "code",
   "execution_count": 783,
   "metadata": {},
   "outputs": [],
   "source": [
    "#amazon_sample400 = amazon_del.sample(n=400, replace=False, random_state=1984)\n",
    "#print(amazon_sample400.info())\n"
   ]
  },
  {
   "cell_type": "code",
   "execution_count": 784,
   "metadata": {},
   "outputs": [],
   "source": [
    "#import time\n",
    "#City_Stores = []\n",
    "#for lat,long in zip(amazon_sample400[\"abs_Store_Latitude\"],amazon_sample400[\"abs_Store_Longitude\"]) :\n",
    " #   loc = Location(lat,long)\n",
    "  #  try:\n",
    "   #     City_Stores.append(loc.city())\n",
    "   # except Exception as e:\n",
    "    #    print(f\"Error for coordinates {lat},{long}: {e}\")\n",
    "    #    City_Stores.append(None)\n",
    "    #time.sleep(1)"
   ]
  },
  {
   "cell_type": "code",
   "execution_count": 785,
   "metadata": {},
   "outputs": [],
   "source": [
    "#amazon_sample400[\"City\"] = City_Stores\n",
    "#print(amazon_sample400[\"City\"].unique())"
   ]
  },
  {
   "cell_type": "code",
   "execution_count": 786,
   "metadata": {},
   "outputs": [],
   "source": [
    "#import pickle\n",
    "#with open(\"amazon_sample400.pkl\",\"wb\") as f:\n",
    "#    pickle.dump(amazon_sample400, f)\n"
   ]
  },
  {
   "cell_type": "markdown",
   "metadata": {},
   "source": [
    "In this sample I have only 2 unknown wheather value, meaning that I also have 1 order and 1 traffic missing data."
   ]
  },
  {
   "cell_type": "markdown",
   "metadata": {},
   "source": [
    "# **EDA with the amazon_sample400 new dataset**"
   ]
  },
  {
   "cell_type": "markdown",
   "metadata": {},
   "source": [
    "I will first remove the missing weather row."
   ]
  },
  {
   "cell_type": "code",
   "execution_count": 787,
   "metadata": {},
   "outputs": [],
   "source": [
    "with open(\"amazon_sample400.pkl\", \"rb\") as f:\n",
    "    amazon_sample400 = pickle.load(f)\n"
   ]
  },
  {
   "cell_type": "code",
   "execution_count": 788,
   "metadata": {},
   "outputs": [
    {
     "name": "stdout",
     "output_type": "stream",
     "text": [
      "<class 'pandas.core.frame.DataFrame'>\n",
      "Index: 398 entries, 6607 to 18798\n",
      "Data columns (total 22 columns):\n",
      " #   Column                  Non-Null Count  Dtype          \n",
      "---  ------                  --------------  -----          \n",
      " 0   Order_ID                398 non-null    object         \n",
      " 1   Agent_Age               398 non-null    int64          \n",
      " 2   Agent_Rating            398 non-null    float64        \n",
      " 3   Store_Latitude          398 non-null    float64        \n",
      " 4   Store_Longitude         398 non-null    float64        \n",
      " 5   Drop_Latitude           398 non-null    float64        \n",
      " 6   Drop_Longitude          398 non-null    float64        \n",
      " 7   Order_Date              398 non-null    datetime64[ns] \n",
      " 8   Order_Time              398 non-null    object         \n",
      " 9   Pickup_Time             398 non-null    datetime64[ns] \n",
      " 10  Weather                 398 non-null    object         \n",
      " 11  Traffic                 398 non-null    category       \n",
      " 12  Vehicle                 398 non-null    category       \n",
      " 13  Area                    398 non-null    category       \n",
      " 14  Delivery_Time           398 non-null    int64          \n",
      " 15  Category                398 non-null    object         \n",
      " 16  Distance_Store_Drop_km  398 non-null    float64        \n",
      " 17  abs_Store_Latitude      398 non-null    float64        \n",
      " 18  abs_Store_Longitude     398 non-null    float64        \n",
      " 19  duration                398 non-null    timedelta64[ns]\n",
      " 20  duration_min            398 non-null    float64        \n",
      " 21  City                    397 non-null    object         \n",
      "dtypes: category(3), datetime64[ns](2), float64(9), int64(2), object(5), timedelta64[ns](1)\n",
      "memory usage: 63.4+ KB\n",
      "None\n"
     ]
    }
   ],
   "source": [
    "amazon_sample400 = amazon_sample400.dropna(subset=[\"Weather\"])\n",
    "print(amazon_sample400.info())"
   ]
  },
  {
   "cell_type": "code",
   "execution_count": 789,
   "metadata": {},
   "outputs": [
    {
     "name": "stdout",
     "output_type": "stream",
     "text": [
      "['' 'Kolkata' 'Surat' 'Bengaluru' 'Prayagraj' 'Mysuru' 'Mumbai Suburban'\n",
      " 'Chhatrapati Sambhaji Nagar' 'Hyderabad' 'Kanpur' 'Pune City' 'Chennai'\n",
      " 'Ranchi' 'Ludhiana' 'Jaipur' 'Ernakulam' 'Bhopal' 'Indore' 'Mumbai City'\n",
      " 'Agra' 'Vadodara' None 'Coimbatore' 'Dehradun' 'Thane' 'Panaji']\n"
     ]
    }
   ],
   "source": [
    "print(amazon_sample400[\"City\"].unique())"
   ]
  },
  {
   "cell_type": "markdown",
   "metadata": {},
   "source": [
    "## **Distinguishing weekdays and weekends**"
   ]
  },
  {
   "cell_type": "code",
   "execution_count": 790,
   "metadata": {},
   "outputs": [
    {
     "data": {
      "text/plain": [
       "<Axes: xlabel='Order_Day', ylabel='count'>"
      ]
     },
     "execution_count": 790,
     "metadata": {},
     "output_type": "execute_result"
    },
    {
     "data": {
      "image/png": "[encoded data removed]",
      "text/plain": [
       "<Figure size 640x480 with 1 Axes>"
      ]
     },
     "metadata": {},
     "output_type": "display_data"
    }
   ],
   "source": [
    "amazon_sample400[\"Order_Day\"] = amazon_sample400[\"Order_Date\"].dt.weekday\n",
    "sns.countplot(x=\"Order_Day\", data=amazon_sample400)"
   ]
  },
  {
   "cell_type": "code",
   "execution_count": 791,
   "metadata": {},
   "outputs": [
    {
     "data": {
      "text/plain": [
       "<Axes: xlabel='Order_Day', ylabel='Delivery_Time'>"
      ]
     },
     "execution_count": 791,
     "metadata": {},
     "output_type": "execute_result"
    },
    {
     "data": {
      "image/png": "[encoded data removed]",
      "text/plain": [
       "<Figure size 640x480 with 1 Axes>"
      ]
     },
     "metadata": {},
     "output_type": "display_data"
    }
   ],
   "source": [
    "sns.boxplot(x=\"Order_Day\", y=\"Delivery_Time\", data=amazon_sample400, hue=\"Traffic\")"
   ]
  },
  {
   "cell_type": "code",
   "execution_count": 792,
   "metadata": {},
   "outputs": [
    {
     "name": "stdout",
     "output_type": "stream",
     "text": [
      "         count      mean       std  min  25%  50%  75%  max\n",
      "Traffic                                                    \n",
      "Low      140.0  2.978571  2.051383  0.0  1.0  3.0  5.0  6.0\n",
      "Medium    96.0  3.093750  1.914367  0.0  2.0  3.0  5.0  6.0\n",
      "High      53.0  2.679245  1.773454  0.0  1.0  3.0  4.0  6.0\n",
      "Jam      109.0  3.064220  1.886969  0.0  2.0  3.0  5.0  6.0\n"
     ]
    },
    {
     "name": "stderr",
     "output_type": "stream",
     "text": [
      "C:\\Users\\Angelique\\AppData\\Local\\Temp\\ipykernel_5424\\183259922.py:1: FutureWarning: The default of observed=False is deprecated and will be changed to True in a future version of pandas. Pass observed=False to retain current behavior or observed=True to adopt the future default and silence this warning.\n",
      "  print(amazon_sample400.groupby(\"Traffic\")[\"Order_Day\"].describe())\n"
     ]
    }
   ],
   "source": [
    "print(amazon_sample400.groupby(\"Traffic\")[\"Order_Day\"].describe())"
   ]
  },
  {
   "cell_type": "code",
   "execution_count": 793,
   "metadata": {},
   "outputs": [],
   "source": [
    "Thursday_del = amazon_sample400[amazon_sample400[\"Order_Day\"] == 3]"
   ]
  },
  {
   "cell_type": "markdown",
   "metadata": {},
   "source": [
    "## **Time lapse between the Order and the pickup**"
   ]
  },
  {
   "cell_type": "code",
   "execution_count": 794,
   "metadata": {},
   "outputs": [
    {
     "name": "stdout",
     "output_type": "stream",
     "text": [
      "               duration  Delivery_Time\n",
      "6607  -4 days +00:05:00             75\n",
      "42406 -4 days +00:10:00             12\n",
      "37509 -4 days +00:15:00             85\n",
      "18682 -4 days +00:15:00            200\n",
      "23717 -4 days +00:15:00            165\n",
      "      Order_Time Pickup_Time          duration\n",
      "6607    23:55:00    00:00:00 -4 days +00:05:00\n",
      "42406   23:50:00    00:00:00 -4 days +00:10:00\n",
      "37509   23:50:00    00:05:00 -4 days +00:15:00\n",
      "18682   23:50:00    00:05:00 -4 days +00:15:00\n",
      "23717   23:55:00    00:10:00 -4 days +00:15:00\n",
      "timedelta64[ns]\n"
     ]
    },
    {
     "name": "stderr",
     "output_type": "stream",
     "text": [
      "C:\\Users\\Angelique\\AppData\\Local\\Temp\\ipykernel_5424\\3643564077.py:2: UserWarning: Could not infer format, so each element will be parsed individually, falling back to `dateutil`. To ensure parsing is consistent and as-expected, please specify a format.\n",
      "  amazon_sample400[\"Order_Time\"] = pd.to_datetime(amazon_sample400[\"Order_Time\"])\n"
     ]
    }
   ],
   "source": [
    "amazon_sample400[\"Pickup_Time\"] = pd.to_datetime(amazon_sample400[\"Pickup_Time\"])\n",
    "amazon_sample400[\"Order_Time\"] = pd.to_datetime(amazon_sample400[\"Order_Time\"])\n",
    "\n",
    "amazon_sample400[\"duration\"] = amazon_sample400[\"Pickup_Time\"] - amazon_sample400[\"Order_Time\"]\n",
    "print(amazon_sample400[[\"duration\",\"Delivery_Time\"]].head())\n",
    "\n",
    "amazon_sample400[\"Pickup_Time\"] = amazon_sample400[\"Pickup_Time\"].dt.strftime(\"%H:%M:%S\")\n",
    "amazon_sample400[\"Order_Time\"] = amazon_sample400[\"Order_Time\"].dt.strftime(\"%H:%M:%S\")\n",
    "print(amazon_sample400[[\"Order_Time\",\"Pickup_Time\",\"duration\"]].head())\n",
    "print(amazon_sample400[\"duration\"].dtype)"
   ]
  },
  {
   "cell_type": "code",
   "execution_count": 795,
   "metadata": {},
   "outputs": [
    {
     "name": "stdout",
     "output_type": "stream",
     "text": [
      "count     398.000000\n",
      "mean    -4328.228643\n",
      "std       160.395655\n",
      "min     -5755.000000\n",
      "25%     -4315.000000\n",
      "50%     -4310.000000\n",
      "75%     -4305.000000\n",
      "max     -4305.000000\n",
      "Name: duration_min, dtype: float64\n"
     ]
    }
   ],
   "source": [
    "amazon_sample400[\"duration_min\"] = amazon_sample400[\"duration\"] / pd.Timedelta(minutes=1)\n",
    "print(amazon_sample400[\"duration_min\"].describe())"
   ]
  },
  {
   "cell_type": "markdown",
   "metadata": {},
   "source": [
    "I have negative durations, most probably due to an order just before midnight and a pickup just after midnight.  "
   ]
  },
  {
   "cell_type": "markdown",
   "metadata": {},
   "source": [
    "### **Handling the negative durations**"
   ]
  },
  {
   "cell_type": "code",
   "execution_count": 796,
   "metadata": {},
   "outputs": [
    {
     "name": "stdout",
     "output_type": "stream",
     "text": [
      "            Order_ID  Agent_Age  Agent_Rating  Store_Latitude  \\\n",
      "6607   tlyu069610755         32           4.7        0.000000   \n",
      "42406  ixws366851328         29           4.9        0.000000   \n",
      "37509  nstz564416500         28           5.0       22.537960   \n",
      "18682  mscb892335317         36           4.9       21.186884   \n",
      "23717  hijq233820447         28           3.4       12.970324   \n",
      "...              ...        ...           ...             ...   \n",
      "29100  yoeb773620553         30           4.6       21.173343   \n",
      "25093  rjsu762881407         29           4.7       12.311072   \n",
      "38256  llxa341097359         35           4.8       22.547186   \n",
      "42354  bkmb346947295         23           4.3       18.569156   \n",
      "18798  ysrp071058973         27           4.7       18.546947   \n",
      "\n",
      "       Store_Longitude  Drop_Latitude  Drop_Longitude Order_Date Order_Time  \\\n",
      "6607          0.000000       0.110000        0.110000 2022-02-14   23:55:00   \n",
      "42406         0.000000       0.060000        0.060000 2022-02-13   23:50:00   \n",
      "37509        88.349843      22.567960       88.379843 2022-02-11   23:50:00   \n",
      "18682        72.793616      21.296884       72.903616 2022-03-02   23:50:00   \n",
      "23717        77.645748      13.060324       77.735748 2022-03-18   23:55:00   \n",
      "...                ...            ...             ...        ...        ...   \n",
      "29100        72.792731      21.233343       72.852731 2022-04-05   23:45:00   \n",
      "25093        76.654878      12.381072       76.724878 2022-04-06   23:45:00   \n",
      "38256        88.350680      22.677186       88.480680 2022-02-16   23:45:00   \n",
      "42354        73.774723      18.599156       73.804723 2022-03-30   23:50:00   \n",
      "18798        73.900626      18.616947       73.970626 2022-04-02   23:50:00   \n",
      "\n",
      "      Pickup_Time  ...          Area Delivery_Time      Category  \\\n",
      "6607     00:00:00  ...  Metropolitan            75        Sports   \n",
      "42406    00:00:00  ...         Urban            12       Grocery   \n",
      "37509    00:05:00  ...  Metropolitan            85        Sports   \n",
      "18682    00:05:00  ...  Metropolitan           200  Pet Supplies   \n",
      "23717    00:10:00  ...  Metropolitan           165      Skincare   \n",
      "...           ...  ...           ...           ...           ...   \n",
      "29100    23:50:00  ...  Metropolitan            28       Grocery   \n",
      "25093    23:50:00  ...  Metropolitan            95       Jewelry   \n",
      "38256    23:55:00  ...  Metropolitan            95      Clothing   \n",
      "42354    23:55:00  ...  Metropolitan           105       Apparel   \n",
      "18798    23:55:00  ...  Metropolitan            90       Jewelry   \n",
      "\n",
      "      Distance_Store_Drop_km  abs_Store_Latitude abs_Store_Longitude  \\\n",
      "6607               17.297890            0.000000            0.000000   \n",
      "42406               9.435215            0.000000            0.000000   \n",
      "37509               4.540804           22.537960           88.349843   \n",
      "18682              16.720605           21.186884           72.793616   \n",
      "23717              13.972211           12.970324           77.645748   \n",
      "...                      ...                 ...                 ...   \n",
      "29100               9.121439           21.173343           72.792731   \n",
      "25093              10.881213           12.311072           76.654878   \n",
      "38256              19.672920           22.547186           88.350680   \n",
      "42354               4.596258           18.569156           73.774723   \n",
      "18798              10.724666           18.546947           73.900626   \n",
      "\n",
      "               duration  duration_min       City Order_Day  \n",
      "6607  -4 days +00:05:00       -5755.0                    0  \n",
      "42406 -4 days +00:10:00       -5750.0                    6  \n",
      "37509 -4 days +00:15:00       -5745.0    Kolkata         4  \n",
      "18682 -4 days +00:15:00       -5745.0      Surat         2  \n",
      "23717 -4 days +00:15:00       -5745.0  Bengaluru         4  \n",
      "...                 ...           ...        ...       ...  \n",
      "29100 -3 days +00:05:00       -4315.0                    1  \n",
      "25093 -3 days +00:05:00       -4315.0     Mysuru         2  \n",
      "38256 -3 days +00:10:00       -4310.0    Kolkata         2  \n",
      "42354 -3 days +00:05:00       -4315.0  Pune City         2  \n",
      "18798 -3 days +00:05:00       -4315.0  Pune City         5  \n",
      "\n",
      "[398 rows x 23 columns]\n"
     ]
    }
   ],
   "source": [
    "negative_duration = amazon_sample400[amazon_sample400[\"duration_min\"] <= -1000]\n",
    "print(negative_duration)"
   ]
  },
  {
   "cell_type": "markdown",
   "metadata": {},
   "source": [
    "I can confirm that the negative durations are due to an order just before midnight and a pickup the next day just after midnight.  "
   ]
  },
  {
   "cell_type": "code",
   "execution_count": 797,
   "metadata": {},
   "outputs": [
    {
     "name": "stdout",
     "output_type": "stream",
     "text": [
      "      Order_Time Pickup_Time  duration_min\n",
      "6607    23:55:00    00:00:00       -4315.0\n",
      "42406   23:50:00    00:00:00       -4310.0\n",
      "37509   23:50:00    00:05:00       -4305.0\n",
      "18682   23:50:00    00:05:00       -4305.0\n",
      "23717   23:55:00    00:10:00       -4305.0\n",
      "...          ...         ...           ...\n",
      "29100   23:45:00    23:50:00       -2875.0\n",
      "25093   23:45:00    23:50:00       -2875.0\n",
      "38256   23:45:00    23:55:00       -2870.0\n",
      "42354   23:50:00    23:55:00       -2875.0\n",
      "18798   23:50:00    23:55:00       -2875.0\n",
      "\n",
      "[398 rows x 3 columns]\n"
     ]
    }
   ],
   "source": [
    "negative_duration[\"duration_min\"] = 1440 + negative_duration[\"duration_min\"]\n",
    "print(negative_duration[[\"Order_Time\",\"Pickup_Time\",\"duration_min\"]])"
   ]
  },
  {
   "cell_type": "code",
   "execution_count": 798,
   "metadata": {},
   "outputs": [
    {
     "data": {
      "text/plain": [
       "398"
      ]
     },
     "execution_count": 798,
     "metadata": {},
     "output_type": "execute_result"
    }
   ],
   "source": [
    "amazon_sample395 = amazon_sample400[~(amazon_sample400[\"duration_min\"] <= -1000)]\n",
    "amazon_sample400 = pd.concat([amazon_sample395,negative_duration], axis=0)\n",
    "len(amazon_sample400)"
   ]
  },
  {
   "cell_type": "markdown",
   "metadata": {},
   "source": [
    "After resolving the cross-midnight problem, I concatenated back everything again."
   ]
  },
  {
   "cell_type": "code",
   "execution_count": 799,
   "metadata": {},
   "outputs": [
    {
     "data": {
      "text/plain": [
       "count     398.000000\n",
       "mean    -2888.228643\n",
       "std       160.395655\n",
       "min     -4315.000000\n",
       "25%     -2875.000000\n",
       "50%     -2870.000000\n",
       "75%     -2865.000000\n",
       "max     -2865.000000\n",
       "Name: duration_min, dtype: float64"
      ]
     },
     "execution_count": 799,
     "metadata": {},
     "output_type": "execute_result"
    }
   ],
   "source": [
    "amazon_sample400[\"duration_min\"].describe()"
   ]
  },
  {
   "cell_type": "markdown",
   "metadata": {},
   "source": [
    "## **Is there a correlation between the time lapse order-pickup and the delivery time?**"
   ]
  },
  {
   "cell_type": "code",
   "execution_count": 800,
   "metadata": {},
   "outputs": [
    {
     "data": {
      "text/plain": [
       "<Axes: xlabel='duration_min', ylabel='Delivery_Time'>"
      ]
     },
     "execution_count": 800,
     "metadata": {},
     "output_type": "execute_result"
    },
    {
     "data": {
      "image/png": "[encoded data removed]",
      "text/plain": [
       "<Figure size 640x480 with 1 Axes>"
      ]
     },
     "metadata": {},
     "output_type": "display_data"
    }
   ],
   "source": [
    "sns.scatterplot(x=\"duration_min\",y=\"Delivery_Time\", data=amazon_sample400)"
   ]
  },
  {
   "cell_type": "markdown",
   "metadata": {},
   "source": [
    "No correlation."
   ]
  },
  {
   "cell_type": "markdown",
   "metadata": {},
   "source": [
    "## **Understanding the relationship between pickup time and delivery time**"
   ]
  },
  {
   "cell_type": "code",
   "execution_count": 801,
   "metadata": {},
   "outputs": [
    {
     "name": "stdout",
     "output_type": "stream",
     "text": [
      "object\n"
     ]
    }
   ],
   "source": [
    "print(amazon_sample400[\"Pickup_Time\"].dtype)"
   ]
  },
  {
   "cell_type": "code",
   "execution_count": 802,
   "metadata": {},
   "outputs": [
    {
     "name": "stderr",
     "output_type": "stream",
     "text": [
      "C:\\Users\\Angelique\\AppData\\Local\\Temp\\ipykernel_5424\\2858529181.py:1: UserWarning: Could not infer format, so each element will be parsed individually, falling back to `dateutil`. To ensure parsing is consistent and as-expected, please specify a format.\n",
      "  amazon_sample400[\"Pickup_Time\"] = pd.to_datetime(amazon_sample400[\"Pickup_Time\"])\n"
     ]
    },
    {
     "data": {
      "image/png": "[encoded data removed]",
      "text/plain": [
       "<Figure size 640x480 with 1 Axes>"
      ]
     },
     "metadata": {},
     "output_type": "display_data"
    }
   ],
   "source": [
    "amazon_sample400[\"Pickup_Time\"] = pd.to_datetime(amazon_sample400[\"Pickup_Time\"])\n",
    "amazon_sample400[\"Pickup_Time_hour\"] = amazon_sample400[\"Pickup_Time\"].dt.hour\n",
    "amazon_sample400.sort_values(by=\"Pickup_Time_hour\", inplace=True)\n",
    "sns.boxplot(x=\"Pickup_Time_hour\", y=\"Delivery_Time\", data=amazon_sample400)\n",
    "plt.show()"
   ]
  },
  {
   "cell_type": "markdown",
   "metadata": {},
   "source": [
    "We can see that there are no deliveries between 1am and 8am.  \n",
    "However, delivery at midnight doesn't seem to be an advantage.  \n",
    "Although a stat would be necessary to confirm, it seems that the shortest delivery happens in the afternon between 16 and 17.  "
   ]
  },
  {
   "cell_type": "code",
   "execution_count": 803,
   "metadata": {},
   "outputs": [
    {
     "data": {
      "image/png": "[encoded data removed]",
      "text/plain": [
       "<Figure size 640x480 with 1 Axes>"
      ]
     },
     "metadata": {},
     "output_type": "display_data"
    }
   ],
   "source": [
    "night_Pickup = amazon_sample400[(amazon_sample400[\"Pickup_Time_hour\"] >= 0) & (amazon_sample400[\"Pickup_Time_hour\"] <= 8)]\n",
    "night_Pickup = night_Pickup.sort_values(\"Pickup_Time\")\n",
    "sns.boxplot(x=\"Pickup_Time\", y=\"Delivery_Time\", data=night_Pickup)\n",
    "plt.xticks(rotation=90)\n",
    "plt.show()"
   ]
  },
  {
   "cell_type": "code",
   "execution_count": 804,
   "metadata": {},
   "outputs": [
    {
     "name": "stdout",
     "output_type": "stream",
     "text": [
      "count      6.000000\n",
      "mean     125.333333\n",
      "std       80.241303\n",
      "min       12.000000\n",
      "25%       77.500000\n",
      "50%      125.000000\n",
      "75%      191.250000\n",
      "max      215.000000\n",
      "Name: Delivery_Time, dtype: float64\n"
     ]
    }
   ],
   "source": [
    "midnight_pickup = amazon_sample400[amazon_sample400[\"Pickup_Time_hour\"] == 0]\n",
    "print(midnight_pickup[\"Delivery_Time\"].describe())"
   ]
  },
  {
   "cell_type": "code",
   "execution_count": 805,
   "metadata": {},
   "outputs": [
    {
     "name": "stdout",
     "output_type": "stream",
     "text": [
      "         count       mean       std   min   25%   50%    75%   max\n",
      "Traffic                                                           \n",
      "Low      140.0  15.842857  7.234282   0.0   9.0  22.0  22.25  23.0\n",
      "Medium    96.0  17.583333  0.902239  15.0  17.0  18.0  18.00  19.0\n",
      "High      53.0  12.509434  1.218805  11.0  12.0  12.0  14.00  15.0\n",
      "Jam      109.0  20.174312  0.951062  19.0  19.0  20.0  21.00  22.0\n"
     ]
    },
    {
     "name": "stderr",
     "output_type": "stream",
     "text": [
      "C:\\Users\\Angelique\\AppData\\Local\\Temp\\ipykernel_5424\\112855044.py:1: FutureWarning: The default of observed=False is deprecated and will be changed to True in a future version of pandas. Pass observed=False to retain current behavior or observed=True to adopt the future default and silence this warning.\n",
      "  print(amazon_sample400.groupby(\"Traffic\")[\"Pickup_Time_hour\"].describe())\n"
     ]
    }
   ],
   "source": [
    "print(amazon_sample400.groupby(\"Traffic\")[\"Pickup_Time_hour\"].describe())"
   ]
  },
  {
   "cell_type": "code",
   "execution_count": 806,
   "metadata": {},
   "outputs": [
    {
     "data": {
      "image/png": "[encoded data removed]",
      "text/plain": [
       "<Figure size 640x480 with 1 Axes>"
      ]
     },
     "metadata": {},
     "output_type": "display_data"
    }
   ],
   "source": [
    "sns.barplot(x=\"Pickup_Time_hour\", y=\"Delivery_Time\", data=amazon_sample400, hue=\"Traffic\")\n",
    "plt.xticks(rotation=90)\n",
    "plt.show()"
   ]
  },
  {
   "cell_type": "code",
   "execution_count": 807,
   "metadata": {},
   "outputs": [
    {
     "data": {
      "text/plain": [
       "<Axes: xlabel='Distance_Store_Drop_km', ylabel='Delivery_Time'>"
      ]
     },
     "execution_count": 807,
     "metadata": {},
     "output_type": "execute_result"
    },
    {
     "data": {
      "image/png": "[encoded data removed]",
      "text/plain": [
       "<Figure size 640x480 with 1 Axes>"
      ]
     },
     "metadata": {},
     "output_type": "display_data"
    }
   ],
   "source": [
    "sns.scatterplot(x=\"Distance_Store_Drop_km\", y= \"Delivery_Time\", data=amazon_sample400)"
   ]
  },
  {
   "cell_type": "code",
   "execution_count": 808,
   "metadata": {},
   "outputs": [
    {
     "name": "stdout",
     "output_type": "stream",
     "text": [
      "              count        mean        std   min   25%    50%     75%    max\n",
      "Area                                                                        \n",
      "Other           8.0  120.625000  52.197256  50.0  75.0  125.0  148.75  190.0\n",
      "Semi-Urban      0.0         NaN        NaN   NaN   NaN    NaN     NaN    NaN\n",
      "Urban          77.0  104.350649  48.623355  12.0  75.0   90.0  120.00  245.0\n",
      "Metropolitan  313.0  128.900958  52.925381  10.0  95.0  130.0  165.00  255.0\n"
     ]
    },
    {
     "name": "stderr",
     "output_type": "stream",
     "text": [
      "C:\\Users\\Angelique\\AppData\\Local\\Temp\\ipykernel_5424\\446885967.py:1: FutureWarning: The default of observed=False is deprecated and will be changed to True in a future version of pandas. Pass observed=False to retain current behavior or observed=True to adopt the future default and silence this warning.\n",
      "  print(amazon_sample400.groupby(\"Area\")[\"Delivery_Time\"].describe())\n"
     ]
    }
   ],
   "source": [
    "print(amazon_sample400.groupby(\"Area\")[\"Delivery_Time\"].describe())"
   ]
  },
  {
   "cell_type": "code",
   "execution_count": 809,
   "metadata": {},
   "outputs": [
    {
     "data": {
      "text/plain": [
       "<Axes: xlabel='Pickup_Time_hour', ylabel='Delivery_Time'>"
      ]
     },
     "execution_count": 809,
     "metadata": {},
     "output_type": "execute_result"
    },
    {
     "data": {
      "image/png": "[encoded data removed]",
      "text/plain": [
       "<Figure size 640x480 with 1 Axes>"
      ]
     },
     "metadata": {},
     "output_type": "display_data"
    }
   ],
   "source": [
    "Metropolitan_del = amazon_sample400[amazon_sample400[\"Area\"] == \"Metropolitan\"]\n",
    "sns.boxplot(x=\"Pickup_Time_hour\", y=\"Delivery_Time\", data=Metropolitan_del)"
   ]
  },
  {
   "cell_type": "code",
   "execution_count": 810,
   "metadata": {},
   "outputs": [
    {
     "name": "stdout",
     "output_type": "stream",
     "text": [
      "         count        mean        std   min    25%    50%    75%    max\n",
      "Traffic                                                                \n",
      "Low      106.0  107.311321  41.209653  10.0   85.0  107.5  130.0  215.0\n",
      "Medium    75.0  133.866667  49.336772  14.0  105.0  140.0  170.0  245.0\n",
      "High      39.0  134.153846  57.603700  25.0  102.5  135.0  167.5  245.0\n",
      "Jam       93.0  147.301075  57.633736  26.0  115.0  145.0  190.0  255.0\n"
     ]
    },
    {
     "name": "stderr",
     "output_type": "stream",
     "text": [
      "C:\\Users\\Angelique\\AppData\\Local\\Temp\\ipykernel_5424\\648996995.py:1: FutureWarning: The default of observed=False is deprecated and will be changed to True in a future version of pandas. Pass observed=False to retain current behavior or observed=True to adopt the future default and silence this warning.\n",
      "  print(Metropolitan_del.groupby(\"Traffic\")[\"Delivery_Time\"].describe())\n"
     ]
    }
   ],
   "source": [
    "print(Metropolitan_del.groupby(\"Traffic\")[\"Delivery_Time\"].describe())"
   ]
  },
  {
   "cell_type": "code",
   "execution_count": 811,
   "metadata": {},
   "outputs": [
    {
     "name": "stderr",
     "output_type": "stream",
     "text": [
      "C:\\Users\\Angelique\\AppData\\Local\\Temp\\ipykernel_5424\\2075070620.py:2: SettingWithCopyWarning: \n",
      "A value is trying to be set on a copy of a slice from a DataFrame\n",
      "\n",
      "See the caveats in the documentation: https://pandas.pydata.org/pandas-docs/stable/user_guide/indexing.html#returning-a-view-versus-a-copy\n",
      "  Metropolitan_low_traff.sort_values(by=\"Pickup_Time\", inplace=True)\n"
     ]
    },
    {
     "data": {
      "image/png": "[encoded data removed]",
      "text/plain": [
       "<Figure size 640x480 with 1 Axes>"
      ]
     },
     "metadata": {},
     "output_type": "display_data"
    }
   ],
   "source": [
    "Metropolitan_low_traff = Metropolitan_del[Metropolitan_del[\"Traffic\"] == \"Low\"]\n",
    "Metropolitan_low_traff.sort_values(by=\"Pickup_Time\", inplace=True)\n",
    "sns.lineplot(x=\"Pickup_Time\", y=\"Delivery_Time\", data=Metropolitan_del)\n",
    "plt.xticks(rotation=90)\n",
    "plt.show()"
   ]
  },
  {
   "cell_type": "code",
   "execution_count": null,
   "metadata": {},
   "outputs": [],
   "source": []
  },
  {
   "cell_type": "code",
   "execution_count": 812,
   "metadata": {},
   "outputs": [],
   "source": [
    "#midnight_pickup = amazon_sample400[(amazon_sample400[\"Pickup_Time\"] > \"00:00\") & (amazon_sample400[\"Pickup_Time\"] < \"01:00\")]\n",
    "#print(midnight_pickup.groupby(\"Traffic\")[\"Delivery_Time\"].median())\n",
    "#print(len(midnight_pickup)/len(amazon_sample400))\n",
    "#print(midnight_pickup.groupby(\"Vehicle\")[\"Delivery_Time\"].describe())"
   ]
  },
  {
   "cell_type": "markdown",
   "metadata": {},
   "source": [
    "It seems that delivering just after midnight doesn't give any improvement on the delivery time, even though the traffic is at that time low. "
   ]
  },
  {
   "cell_type": "code",
   "execution_count": 813,
   "metadata": {},
   "outputs": [
    {
     "name": "stdout",
     "output_type": "stream",
     "text": [
      "              count   mean       std   min   25%    50%    75%    max\n",
      "Area                                                                 \n",
      "Other           0.0    NaN       NaN   NaN   NaN    NaN    NaN    NaN\n",
      "Semi-Urban      0.0    NaN       NaN   NaN   NaN    NaN    NaN    NaN\n",
      "Urban           1.0   12.0       NaN  12.0  12.0   12.0   12.0   12.0\n",
      "Metropolitan    5.0  148.0  64.76882  75.0  85.0  165.0  200.0  215.0\n"
     ]
    },
    {
     "name": "stderr",
     "output_type": "stream",
     "text": [
      "C:\\Users\\Angelique\\AppData\\Local\\Temp\\ipykernel_5424\\1597219718.py:1: FutureWarning: The default of observed=False is deprecated and will be changed to True in a future version of pandas. Pass observed=False to retain current behavior or observed=True to adopt the future default and silence this warning.\n",
      "  print(midnight_pickup.groupby(\"Area\")[\"Delivery_Time\"].describe())\n"
     ]
    }
   ],
   "source": [
    "print(midnight_pickup.groupby(\"Area\")[\"Delivery_Time\"].describe())"
   ]
  },
  {
   "cell_type": "markdown",
   "metadata": {},
   "source": [
    "Furthermore, this Pickup time only concerns the Metropolitan area.  "
   ]
  },
  {
   "cell_type": "code",
   "execution_count": 814,
   "metadata": {},
   "outputs": [
    {
     "name": "stderr",
     "output_type": "stream",
     "text": [
      "C:\\Users\\Angelique\\AppData\\Local\\Temp\\ipykernel_5424\\2017995078.py:1: UserWarning: Could not infer format, so each element will be parsed individually, falling back to `dateutil`. To ensure parsing is consistent and as-expected, please specify a format.\n",
      "  amazon_del[\"Pickup_Time\"] = pd.to_datetime(amazon_del[\"Pickup_Time\"])\n"
     ]
    },
    {
     "data": {
      "image/png": "[encoded data removed]",
      "text/plain": [
       "<Figure size 640x480 with 1 Axes>"
      ]
     },
     "metadata": {},
     "output_type": "display_data"
    }
   ],
   "source": [
    "amazon_del[\"Pickup_Time\"] = pd.to_datetime(amazon_del[\"Pickup_Time\"])\n",
    "amazon_midnight = amazon_del[(amazon_del[\"Pickup_Time\"] > \"00:00\") & (amazon_del[\"Pickup_Time\"] < \"01:00\")]\n",
    "sns.boxplot(x=\"Pickup_Time\", y=\"Delivery_Time\", data=amazon_midnight)\n",
    "plt.xticks(rotation=90)\n",
    "plt.show()"
   ]
  },
  {
   "cell_type": "code",
   "execution_count": 815,
   "metadata": {},
   "outputs": [
    {
     "name": "stdout",
     "output_type": "stream",
     "text": [
      "         count        mean        std   min   25%    50%    75%    max\n",
      "Traffic                                                               \n",
      "Low      837.0  106.230585  43.067385  10.0  80.0  105.0  130.0  220.0\n",
      "Medium     0.0         NaN        NaN   NaN   NaN    NaN    NaN    NaN\n",
      "Jam        0.0         NaN        NaN   NaN   NaN    NaN    NaN    NaN\n",
      "High       0.0         NaN        NaN   NaN   NaN    NaN    NaN    NaN\n",
      "Vehicle\n",
      "motorcycle    474\n",
      "scooter       290\n",
      "van            73\n",
      "bicycle         0\n",
      "Name: count, dtype: int64\n"
     ]
    },
    {
     "name": "stderr",
     "output_type": "stream",
     "text": [
      "C:\\Users\\Angelique\\AppData\\Local\\Temp\\ipykernel_5424\\729600194.py:1: FutureWarning: The default of observed=False is deprecated and will be changed to True in a future version of pandas. Pass observed=False to retain current behavior or observed=True to adopt the future default and silence this warning.\n",
      "  print(amazon_midnight.groupby(\"Traffic\")[\"Delivery_Time\"].describe())\n"
     ]
    }
   ],
   "source": [
    "print(amazon_midnight.groupby(\"Traffic\")[\"Delivery_Time\"].describe())\n",
    "print(amazon_midnight[\"Vehicle\"].value_counts())"
   ]
  },
  {
   "cell_type": "code",
   "execution_count": 816,
   "metadata": {},
   "outputs": [
    {
     "name": "stdout",
     "output_type": "stream",
     "text": [
      "           count        mean        std   min    25%    50%    75%    max\n",
      "Traffic                                                                  \n",
      "Low      14739.0  101.505258  38.899375  10.0   75.0  100.0  125.0  220.0\n",
      "Medium   10614.0  126.835029  48.722802  10.0   90.0  130.0  160.0  245.0\n",
      "Jam      13710.0  147.748505  56.828568  10.0  110.0  150.0  190.0  270.0\n",
      "High      4217.0  129.465260  48.373108  10.0  100.0  135.0  160.0  270.0\n"
     ]
    },
    {
     "name": "stderr",
     "output_type": "stream",
     "text": [
      "C:\\Users\\Angelique\\AppData\\Local\\Temp\\ipykernel_5424\\2455931648.py:1: FutureWarning: The default of observed=False is deprecated and will be changed to True in a future version of pandas. Pass observed=False to retain current behavior or observed=True to adopt the future default and silence this warning.\n",
      "  print(amazon_del.groupby(\"Traffic\")[\"Delivery_Time\"].describe())\n"
     ]
    }
   ],
   "source": [
    "print(amazon_del.groupby(\"Traffic\")[\"Delivery_Time\"].describe())"
   ]
  },
  {
   "cell_type": "code",
   "execution_count": 817,
   "metadata": {},
   "outputs": [
    {
     "name": "stdout",
     "output_type": "stream",
     "text": [
      "              count        mean        std   min   25%    50%    75%    max\n",
      "Area                                                                       \n",
      "Other          33.0   98.818182  40.251129  21.0  75.0   90.0  110.0  215.0\n",
      "Semi-Urban      0.0         NaN        NaN   NaN   NaN    NaN    NaN    NaN\n",
      "Urban         214.0   95.373832  40.494832  11.0  70.0   95.0  120.0  210.0\n",
      "Metropolitan  590.0  110.583051  43.436221  10.0  80.0  110.0  135.0  220.0\n"
     ]
    },
    {
     "name": "stderr",
     "output_type": "stream",
     "text": [
      "C:\\Users\\Angelique\\AppData\\Local\\Temp\\ipykernel_5424\\2360992336.py:1: FutureWarning: The default of observed=False is deprecated and will be changed to True in a future version of pandas. Pass observed=False to retain current behavior or observed=True to adopt the future default and silence this warning.\n",
      "  print(amazon_midnight.groupby(\"Area\")[\"Delivery_Time\"].describe())\n"
     ]
    }
   ],
   "source": [
    "print(amazon_midnight.groupby(\"Area\")[\"Delivery_Time\"].describe())"
   ]
  },
  {
   "cell_type": "code",
   "execution_count": 818,
   "metadata": {},
   "outputs": [
    {
     "ename": "ValueError",
     "evalue": "Could not interpret value `Pickup_Time_hour` for `x`. An entry with this name does not appear in `data`.",
     "output_type": "error",
     "traceback": [
      "\u001b[1;31m---------------------------------------------------------------------------\u001b[0m",
      "\u001b[1;31mValueError\u001b[0m                                Traceback (most recent call last)",
      "Cell \u001b[1;32mIn[818], line 2\u001b[0m\n\u001b[0;32m      1\u001b[0m \u001b[38;5;66;03m#Thursday_del\u001b[39;00m\n\u001b[1;32m----> 2\u001b[0m \u001b[43msns\u001b[49m\u001b[38;5;241;43m.\u001b[39;49m\u001b[43mboxplot\u001b[49m\u001b[43m(\u001b[49m\u001b[43mx\u001b[49m\u001b[38;5;241;43m=\u001b[39;49m\u001b[38;5;124;43m\"\u001b[39;49m\u001b[38;5;124;43mPickup_Time_hour\u001b[39;49m\u001b[38;5;124;43m\"\u001b[39;49m\u001b[43m,\u001b[49m\u001b[43m \u001b[49m\u001b[43my\u001b[49m\u001b[38;5;241;43m=\u001b[39;49m\u001b[38;5;124;43m\"\u001b[39;49m\u001b[38;5;124;43mDelivery_Time\u001b[39;49m\u001b[38;5;124;43m\"\u001b[39;49m\u001b[43m,\u001b[49m\u001b[43m \u001b[49m\u001b[43mdata\u001b[49m\u001b[38;5;241;43m=\u001b[39;49m\u001b[43mThursday_del\u001b[49m\u001b[43m)\u001b[49m\n",
      "File \u001b[1;32mc:\\Users\\Angelique\\anaconda3\\envs\\Essai\\Lib\\site-packages\\seaborn\\categorical.py:1597\u001b[0m, in \u001b[0;36mboxplot\u001b[1;34m(data, x, y, hue, order, hue_order, orient, color, palette, saturation, fill, dodge, width, gap, whis, linecolor, linewidth, fliersize, hue_norm, native_scale, log_scale, formatter, legend, ax, **kwargs)\u001b[0m\n\u001b[0;32m   1589\u001b[0m \u001b[38;5;28;01mdef\u001b[39;00m \u001b[38;5;21mboxplot\u001b[39m(\n\u001b[0;32m   1590\u001b[0m     data\u001b[38;5;241m=\u001b[39m\u001b[38;5;28;01mNone\u001b[39;00m, \u001b[38;5;241m*\u001b[39m, x\u001b[38;5;241m=\u001b[39m\u001b[38;5;28;01mNone\u001b[39;00m, y\u001b[38;5;241m=\u001b[39m\u001b[38;5;28;01mNone\u001b[39;00m, hue\u001b[38;5;241m=\u001b[39m\u001b[38;5;28;01mNone\u001b[39;00m, order\u001b[38;5;241m=\u001b[39m\u001b[38;5;28;01mNone\u001b[39;00m, hue_order\u001b[38;5;241m=\u001b[39m\u001b[38;5;28;01mNone\u001b[39;00m,\n\u001b[0;32m   1591\u001b[0m     orient\u001b[38;5;241m=\u001b[39m\u001b[38;5;28;01mNone\u001b[39;00m, color\u001b[38;5;241m=\u001b[39m\u001b[38;5;28;01mNone\u001b[39;00m, palette\u001b[38;5;241m=\u001b[39m\u001b[38;5;28;01mNone\u001b[39;00m, saturation\u001b[38;5;241m=\u001b[39m\u001b[38;5;241m.75\u001b[39m, fill\u001b[38;5;241m=\u001b[39m\u001b[38;5;28;01mTrue\u001b[39;00m,\n\u001b[1;32m   (...)\u001b[0m\n\u001b[0;32m   1594\u001b[0m     legend\u001b[38;5;241m=\u001b[39m\u001b[38;5;124m\"\u001b[39m\u001b[38;5;124mauto\u001b[39m\u001b[38;5;124m\"\u001b[39m, ax\u001b[38;5;241m=\u001b[39m\u001b[38;5;28;01mNone\u001b[39;00m, \u001b[38;5;241m*\u001b[39m\u001b[38;5;241m*\u001b[39mkwargs\n\u001b[0;32m   1595\u001b[0m ):\n\u001b[1;32m-> 1597\u001b[0m     p \u001b[38;5;241m=\u001b[39m \u001b[43m_CategoricalPlotter\u001b[49m\u001b[43m(\u001b[49m\n\u001b[0;32m   1598\u001b[0m \u001b[43m        \u001b[49m\u001b[43mdata\u001b[49m\u001b[38;5;241;43m=\u001b[39;49m\u001b[43mdata\u001b[49m\u001b[43m,\u001b[49m\n\u001b[0;32m   1599\u001b[0m \u001b[43m        \u001b[49m\u001b[43mvariables\u001b[49m\u001b[38;5;241;43m=\u001b[39;49m\u001b[38;5;28;43mdict\u001b[39;49m\u001b[43m(\u001b[49m\u001b[43mx\u001b[49m\u001b[38;5;241;43m=\u001b[39;49m\u001b[43mx\u001b[49m\u001b[43m,\u001b[49m\u001b[43m \u001b[49m\u001b[43my\u001b[49m\u001b[38;5;241;43m=\u001b[39;49m\u001b[43my\u001b[49m\u001b[43m,\u001b[49m\u001b[43m \u001b[49m\u001b[43mhue\u001b[49m\u001b[38;5;241;43m=\u001b[39;49m\u001b[43mhue\u001b[49m\u001b[43m)\u001b[49m\u001b[43m,\u001b[49m\n\u001b[0;32m   1600\u001b[0m \u001b[43m        \u001b[49m\u001b[43morder\u001b[49m\u001b[38;5;241;43m=\u001b[39;49m\u001b[43morder\u001b[49m\u001b[43m,\u001b[49m\n\u001b[0;32m   1601\u001b[0m \u001b[43m        \u001b[49m\u001b[43morient\u001b[49m\u001b[38;5;241;43m=\u001b[39;49m\u001b[43morient\u001b[49m\u001b[43m,\u001b[49m\n\u001b[0;32m   1602\u001b[0m \u001b[43m        \u001b[49m\u001b[43mcolor\u001b[49m\u001b[38;5;241;43m=\u001b[39;49m\u001b[43mcolor\u001b[49m\u001b[43m,\u001b[49m\n\u001b[0;32m   1603\u001b[0m \u001b[43m        \u001b[49m\u001b[43mlegend\u001b[49m\u001b[38;5;241;43m=\u001b[39;49m\u001b[43mlegend\u001b[49m\u001b[43m,\u001b[49m\n\u001b[0;32m   1604\u001b[0m \u001b[43m    \u001b[49m\u001b[43m)\u001b[49m\n\u001b[0;32m   1606\u001b[0m     \u001b[38;5;28;01mif\u001b[39;00m ax \u001b[38;5;129;01mis\u001b[39;00m \u001b[38;5;28;01mNone\u001b[39;00m:\n\u001b[0;32m   1607\u001b[0m         ax \u001b[38;5;241m=\u001b[39m plt\u001b[38;5;241m.\u001b[39mgca()\n",
      "File \u001b[1;32mc:\\Users\\Angelique\\anaconda3\\envs\\Essai\\Lib\\site-packages\\seaborn\\categorical.py:67\u001b[0m, in \u001b[0;36m_CategoricalPlotter.__init__\u001b[1;34m(self, data, variables, order, orient, require_numeric, color, legend)\u001b[0m\n\u001b[0;32m     56\u001b[0m \u001b[38;5;28;01mdef\u001b[39;00m \u001b[38;5;21m__init__\u001b[39m(\n\u001b[0;32m     57\u001b[0m     \u001b[38;5;28mself\u001b[39m,\n\u001b[0;32m     58\u001b[0m     data\u001b[38;5;241m=\u001b[39m\u001b[38;5;28;01mNone\u001b[39;00m,\n\u001b[1;32m   (...)\u001b[0m\n\u001b[0;32m     64\u001b[0m     legend\u001b[38;5;241m=\u001b[39m\u001b[38;5;124m\"\u001b[39m\u001b[38;5;124mauto\u001b[39m\u001b[38;5;124m\"\u001b[39m,\n\u001b[0;32m     65\u001b[0m ):\n\u001b[1;32m---> 67\u001b[0m     \u001b[38;5;28;43msuper\u001b[39;49m\u001b[43m(\u001b[49m\u001b[43m)\u001b[49m\u001b[38;5;241;43m.\u001b[39;49m\u001b[38;5;21;43m__init__\u001b[39;49m\u001b[43m(\u001b[49m\u001b[43mdata\u001b[49m\u001b[38;5;241;43m=\u001b[39;49m\u001b[43mdata\u001b[49m\u001b[43m,\u001b[49m\u001b[43m \u001b[49m\u001b[43mvariables\u001b[49m\u001b[38;5;241;43m=\u001b[39;49m\u001b[43mvariables\u001b[49m\u001b[43m)\u001b[49m\n\u001b[0;32m     69\u001b[0m     \u001b[38;5;66;03m# This method takes care of some bookkeeping that is necessary because the\u001b[39;00m\n\u001b[0;32m     70\u001b[0m     \u001b[38;5;66;03m# original categorical plots (prior to the 2021 refactor) had some rules that\u001b[39;00m\n\u001b[0;32m     71\u001b[0m     \u001b[38;5;66;03m# don't fit exactly into VectorPlotter logic. It may be wise to have a second\u001b[39;00m\n\u001b[1;32m   (...)\u001b[0m\n\u001b[0;32m     76\u001b[0m     \u001b[38;5;66;03m# default VectorPlotter rules. If we do decide to make orient part of the\u001b[39;00m\n\u001b[0;32m     77\u001b[0m     \u001b[38;5;66;03m# _base variable assignment, we'll want to figure out how to express that.\u001b[39;00m\n\u001b[0;32m     78\u001b[0m     \u001b[38;5;28;01mif\u001b[39;00m \u001b[38;5;28mself\u001b[39m\u001b[38;5;241m.\u001b[39minput_format \u001b[38;5;241m==\u001b[39m \u001b[38;5;124m\"\u001b[39m\u001b[38;5;124mwide\u001b[39m\u001b[38;5;124m\"\u001b[39m \u001b[38;5;129;01mand\u001b[39;00m orient \u001b[38;5;129;01min\u001b[39;00m [\u001b[38;5;124m\"\u001b[39m\u001b[38;5;124mh\u001b[39m\u001b[38;5;124m\"\u001b[39m, \u001b[38;5;124m\"\u001b[39m\u001b[38;5;124my\u001b[39m\u001b[38;5;124m\"\u001b[39m]:\n",
      "File \u001b[1;32mc:\\Users\\Angelique\\anaconda3\\envs\\Essai\\Lib\\site-packages\\seaborn\\_base.py:634\u001b[0m, in \u001b[0;36mVectorPlotter.__init__\u001b[1;34m(self, data, variables)\u001b[0m\n\u001b[0;32m    629\u001b[0m \u001b[38;5;66;03m# var_ordered is relevant only for categorical axis variables, and may\u001b[39;00m\n\u001b[0;32m    630\u001b[0m \u001b[38;5;66;03m# be better handled by an internal axis information object that tracks\u001b[39;00m\n\u001b[0;32m    631\u001b[0m \u001b[38;5;66;03m# such information and is set up by the scale_* methods. The analogous\u001b[39;00m\n\u001b[0;32m    632\u001b[0m \u001b[38;5;66;03m# information for numeric axes would be information about log scales.\u001b[39;00m\n\u001b[0;32m    633\u001b[0m \u001b[38;5;28mself\u001b[39m\u001b[38;5;241m.\u001b[39m_var_ordered \u001b[38;5;241m=\u001b[39m {\u001b[38;5;124m\"\u001b[39m\u001b[38;5;124mx\u001b[39m\u001b[38;5;124m\"\u001b[39m: \u001b[38;5;28;01mFalse\u001b[39;00m, \u001b[38;5;124m\"\u001b[39m\u001b[38;5;124my\u001b[39m\u001b[38;5;124m\"\u001b[39m: \u001b[38;5;28;01mFalse\u001b[39;00m}  \u001b[38;5;66;03m# alt., used DefaultDict\u001b[39;00m\n\u001b[1;32m--> 634\u001b[0m \u001b[38;5;28;43mself\u001b[39;49m\u001b[38;5;241;43m.\u001b[39;49m\u001b[43massign_variables\u001b[49m\u001b[43m(\u001b[49m\u001b[43mdata\u001b[49m\u001b[43m,\u001b[49m\u001b[43m \u001b[49m\u001b[43mvariables\u001b[49m\u001b[43m)\u001b[49m\n\u001b[0;32m    636\u001b[0m \u001b[38;5;66;03m# TODO Lots of tests assume that these are called to initialize the\u001b[39;00m\n\u001b[0;32m    637\u001b[0m \u001b[38;5;66;03m# mappings to default values on class initialization. I'd prefer to\u001b[39;00m\n\u001b[0;32m    638\u001b[0m \u001b[38;5;66;03m# move away from that and only have a mapping when explicitly called.\u001b[39;00m\n\u001b[0;32m    639\u001b[0m \u001b[38;5;28;01mfor\u001b[39;00m var \u001b[38;5;129;01min\u001b[39;00m [\u001b[38;5;124m\"\u001b[39m\u001b[38;5;124mhue\u001b[39m\u001b[38;5;124m\"\u001b[39m, \u001b[38;5;124m\"\u001b[39m\u001b[38;5;124msize\u001b[39m\u001b[38;5;124m\"\u001b[39m, \u001b[38;5;124m\"\u001b[39m\u001b[38;5;124mstyle\u001b[39m\u001b[38;5;124m\"\u001b[39m]:\n",
      "File \u001b[1;32mc:\\Users\\Angelique\\anaconda3\\envs\\Essai\\Lib\\site-packages\\seaborn\\_base.py:679\u001b[0m, in \u001b[0;36mVectorPlotter.assign_variables\u001b[1;34m(self, data, variables)\u001b[0m\n\u001b[0;32m    674\u001b[0m \u001b[38;5;28;01melse\u001b[39;00m:\n\u001b[0;32m    675\u001b[0m     \u001b[38;5;66;03m# When dealing with long-form input, use the newer PlotData\u001b[39;00m\n\u001b[0;32m    676\u001b[0m     \u001b[38;5;66;03m# object (internal but introduced for the objects interface)\u001b[39;00m\n\u001b[0;32m    677\u001b[0m     \u001b[38;5;66;03m# to centralize / standardize data consumption logic.\u001b[39;00m\n\u001b[0;32m    678\u001b[0m     \u001b[38;5;28mself\u001b[39m\u001b[38;5;241m.\u001b[39minput_format \u001b[38;5;241m=\u001b[39m \u001b[38;5;124m\"\u001b[39m\u001b[38;5;124mlong\u001b[39m\u001b[38;5;124m\"\u001b[39m\n\u001b[1;32m--> 679\u001b[0m     plot_data \u001b[38;5;241m=\u001b[39m \u001b[43mPlotData\u001b[49m\u001b[43m(\u001b[49m\u001b[43mdata\u001b[49m\u001b[43m,\u001b[49m\u001b[43m \u001b[49m\u001b[43mvariables\u001b[49m\u001b[43m)\u001b[49m\n\u001b[0;32m    680\u001b[0m     frame \u001b[38;5;241m=\u001b[39m plot_data\u001b[38;5;241m.\u001b[39mframe\n\u001b[0;32m    681\u001b[0m     names \u001b[38;5;241m=\u001b[39m plot_data\u001b[38;5;241m.\u001b[39mnames\n",
      "File \u001b[1;32mc:\\Users\\Angelique\\anaconda3\\envs\\Essai\\Lib\\site-packages\\seaborn\\_core\\data.py:58\u001b[0m, in \u001b[0;36mPlotData.__init__\u001b[1;34m(self, data, variables)\u001b[0m\n\u001b[0;32m     51\u001b[0m \u001b[38;5;28;01mdef\u001b[39;00m \u001b[38;5;21m__init__\u001b[39m(\n\u001b[0;32m     52\u001b[0m     \u001b[38;5;28mself\u001b[39m,\n\u001b[0;32m     53\u001b[0m     data: DataSource,\n\u001b[0;32m     54\u001b[0m     variables: \u001b[38;5;28mdict\u001b[39m[\u001b[38;5;28mstr\u001b[39m, VariableSpec],\n\u001b[0;32m     55\u001b[0m ):\n\u001b[0;32m     57\u001b[0m     data \u001b[38;5;241m=\u001b[39m handle_data_source(data)\n\u001b[1;32m---> 58\u001b[0m     frame, names, ids \u001b[38;5;241m=\u001b[39m \u001b[38;5;28;43mself\u001b[39;49m\u001b[38;5;241;43m.\u001b[39;49m\u001b[43m_assign_variables\u001b[49m\u001b[43m(\u001b[49m\u001b[43mdata\u001b[49m\u001b[43m,\u001b[49m\u001b[43m \u001b[49m\u001b[43mvariables\u001b[49m\u001b[43m)\u001b[49m\n\u001b[0;32m     60\u001b[0m     \u001b[38;5;28mself\u001b[39m\u001b[38;5;241m.\u001b[39mframe \u001b[38;5;241m=\u001b[39m frame\n\u001b[0;32m     61\u001b[0m     \u001b[38;5;28mself\u001b[39m\u001b[38;5;241m.\u001b[39mnames \u001b[38;5;241m=\u001b[39m names\n",
      "File \u001b[1;32mc:\\Users\\Angelique\\anaconda3\\envs\\Essai\\Lib\\site-packages\\seaborn\\_core\\data.py:232\u001b[0m, in \u001b[0;36mPlotData._assign_variables\u001b[1;34m(self, data, variables)\u001b[0m\n\u001b[0;32m    230\u001b[0m     \u001b[38;5;28;01melse\u001b[39;00m:\n\u001b[0;32m    231\u001b[0m         err \u001b[38;5;241m+\u001b[39m\u001b[38;5;241m=\u001b[39m \u001b[38;5;124m\"\u001b[39m\u001b[38;5;124mAn entry with this name does not appear in `data`.\u001b[39m\u001b[38;5;124m\"\u001b[39m\n\u001b[1;32m--> 232\u001b[0m     \u001b[38;5;28;01mraise\u001b[39;00m \u001b[38;5;167;01mValueError\u001b[39;00m(err)\n\u001b[0;32m    234\u001b[0m \u001b[38;5;28;01melse\u001b[39;00m:\n\u001b[0;32m    235\u001b[0m \n\u001b[0;32m    236\u001b[0m     \u001b[38;5;66;03m# Otherwise, assume the value somehow represents data\u001b[39;00m\n\u001b[0;32m    237\u001b[0m \n\u001b[0;32m    238\u001b[0m     \u001b[38;5;66;03m# Ignore empty data structures\u001b[39;00m\n\u001b[0;32m    239\u001b[0m     \u001b[38;5;28;01mif\u001b[39;00m \u001b[38;5;28misinstance\u001b[39m(val, Sized) \u001b[38;5;129;01mand\u001b[39;00m \u001b[38;5;28mlen\u001b[39m(val) \u001b[38;5;241m==\u001b[39m \u001b[38;5;241m0\u001b[39m:\n",
      "\u001b[1;31mValueError\u001b[0m: Could not interpret value `Pickup_Time_hour` for `x`. An entry with this name does not appear in `data`."
     ]
    }
   ],
   "source": [
    "#Thursday_del\n",
    "sns.boxplot(x=\"Pickup_Time_hour\", y=\"Delivery_Time\", data=Thursday_del)"
   ]
  },
  {
   "cell_type": "markdown",
   "metadata": {},
   "source": [
    "## **Is there a correlation between traffic and Delivery Time?**"
   ]
  },
  {
   "cell_type": "code",
   "execution_count": null,
   "metadata": {},
   "outputs": [
    {
     "data": {
      "text/plain": [
       "['Low', 'High', 'Medium', 'Jam']\n",
       "Categories (4, object): ['Low' < 'Medium' < 'High' < 'Jam']"
      ]
     },
     "execution_count": 136,
     "metadata": {},
     "output_type": "execute_result"
    }
   ],
   "source": [
    "amazon_sample400[\"Traffic\"].unique()"
   ]
  },
  {
   "cell_type": "code",
   "execution_count": null,
   "metadata": {},
   "outputs": [],
   "source": [
    "amazon_sample400[\"Traffic\"] = amazon_sample400[\"Traffic\"].astype(\"category\")\n",
    "ordered_traffic = [\"Low\",\"Medium\",\"High\",\"Jam\"]\n",
    "amazon_sample400[\"Traffic\"] = amazon_sample400[\"Traffic\"].\\\n",
    "    cat.reorder_categories(new_categories=ordered_traffic, ordered=True)"
   ]
  },
  {
   "cell_type": "code",
   "execution_count": null,
   "metadata": {},
   "outputs": [
    {
     "name": "stderr",
     "output_type": "stream",
     "text": [
      "C:\\Users\\Angelique\\AppData\\Local\\Temp\\ipykernel_3640\\1075460086.py:1: FutureWarning: The default of observed=False is deprecated and will be changed to True in a future version of pandas. Pass observed=False to retain current behavior or observed=True to adopt the future default and silence this warning.\n",
      "  amazon_sample400.groupby(\"Traffic\")[\"Delivery_Time\"].describe()\n"
     ]
    },
    {
     "data": {
      "text/html": [
       "<div>\n",
       "<style scoped>\n",
       "    .dataframe tbody tr th:only-of-type {\n",
       "        vertical-align: middle;\n",
       "    }\n",
       "\n",
       "    .dataframe tbody tr th {\n",
       "        vertical-align: top;\n",
       "    }\n",
       "\n",
       "    .dataframe thead th {\n",
       "        text-align: right;\n",
       "    }\n",
       "</style>\n",
       "<table border=\"1\" class=\"dataframe\">\n",
       "  <thead>\n",
       "    <tr style=\"text-align: right;\">\n",
       "      <th></th>\n",
       "      <th>count</th>\n",
       "      <th>mean</th>\n",
       "      <th>std</th>\n",
       "      <th>min</th>\n",
       "      <th>25%</th>\n",
       "      <th>50%</th>\n",
       "      <th>75%</th>\n",
       "      <th>max</th>\n",
       "    </tr>\n",
       "    <tr>\n",
       "      <th>Traffic</th>\n",
       "      <th></th>\n",
       "      <th></th>\n",
       "      <th></th>\n",
       "      <th></th>\n",
       "      <th></th>\n",
       "      <th></th>\n",
       "      <th></th>\n",
       "      <th></th>\n",
       "    </tr>\n",
       "  </thead>\n",
       "  <tbody>\n",
       "    <tr>\n",
       "      <th>Low</th>\n",
       "      <td>140.0</td>\n",
       "      <td>103.464286</td>\n",
       "      <td>42.172549</td>\n",
       "      <td>10.0</td>\n",
       "      <td>75.0</td>\n",
       "      <td>100.0</td>\n",
       "      <td>130.0</td>\n",
       "      <td>215.0</td>\n",
       "    </tr>\n",
       "    <tr>\n",
       "      <th>Medium</th>\n",
       "      <td>96.0</td>\n",
       "      <td>128.072917</td>\n",
       "      <td>49.690038</td>\n",
       "      <td>14.0</td>\n",
       "      <td>95.0</td>\n",
       "      <td>122.5</td>\n",
       "      <td>165.0</td>\n",
       "      <td>245.0</td>\n",
       "    </tr>\n",
       "    <tr>\n",
       "      <th>High</th>\n",
       "      <td>53.0</td>\n",
       "      <td>127.679245</td>\n",
       "      <td>55.876503</td>\n",
       "      <td>25.0</td>\n",
       "      <td>90.0</td>\n",
       "      <td>120.0</td>\n",
       "      <td>165.0</td>\n",
       "      <td>245.0</td>\n",
       "    </tr>\n",
       "    <tr>\n",
       "      <th>Jam</th>\n",
       "      <td>109.0</td>\n",
       "      <td>144.944954</td>\n",
       "      <td>57.472511</td>\n",
       "      <td>26.0</td>\n",
       "      <td>105.0</td>\n",
       "      <td>145.0</td>\n",
       "      <td>190.0</td>\n",
       "      <td>255.0</td>\n",
       "    </tr>\n",
       "  </tbody>\n",
       "</table>\n",
       "</div>"
      ],
      "text/plain": [
       "         count        mean        std   min    25%    50%    75%    max\n",
       "Traffic                                                                \n",
       "Low      140.0  103.464286  42.172549  10.0   75.0  100.0  130.0  215.0\n",
       "Medium    96.0  128.072917  49.690038  14.0   95.0  122.5  165.0  245.0\n",
       "High      53.0  127.679245  55.876503  25.0   90.0  120.0  165.0  245.0\n",
       "Jam      109.0  144.944954  57.472511  26.0  105.0  145.0  190.0  255.0"
      ]
     },
     "execution_count": 138,
     "metadata": {},
     "output_type": "execute_result"
    }
   ],
   "source": [
    "amazon_sample400.groupby(\"Traffic\")[\"Delivery_Time\"].describe()"
   ]
  },
  {
   "cell_type": "markdown",
   "metadata": {},
   "source": [
    "## **Vehicles and traffic and delivery time**"
   ]
  },
  {
   "cell_type": "code",
   "execution_count": null,
   "metadata": {},
   "outputs": [
    {
     "name": "stderr",
     "output_type": "stream",
     "text": [
      "C:\\Users\\Angelique\\AppData\\Local\\Temp\\ipykernel_3640\\1883379857.py:1: FutureWarning: The default of observed=False is deprecated and will be changed to True in a future version of pandas. Pass observed=False to retain current behavior or observed=True to adopt the future default and silence this warning.\n",
      "  amazon_sample400.groupby([\"Vehicle\",\"Traffic\"])[\"Delivery_Time\"].median()\n"
     ]
    },
    {
     "data": {
      "text/plain": [
       "Vehicle     Traffic\n",
       "scooter     Low         92.5\n",
       "            Medium     120.0\n",
       "            High        92.5\n",
       "            Jam        140.0\n",
       "motorcycle  Low        110.0\n",
       "            Medium     130.0\n",
       "            High       135.0\n",
       "            Jam        160.0\n",
       "van         Low         95.0\n",
       "            Medium      85.0\n",
       "            High       120.0\n",
       "            Jam        125.0\n",
       "Name: Delivery_Time, dtype: float64"
      ]
     },
     "execution_count": 139,
     "metadata": {},
     "output_type": "execute_result"
    }
   ],
   "source": [
    "amazon_sample400.groupby([\"Vehicle\",\"Traffic\"])[\"Delivery_Time\"].median()"
   ]
  },
  {
   "cell_type": "code",
   "execution_count": null,
   "metadata": {},
   "outputs": [
    {
     "data": {
      "text/plain": [
       "Vehicle\n",
       "motorcycle    250\n",
       "scooter       124\n",
       "van            24\n",
       "Name: count, dtype: int64"
      ]
     },
     "execution_count": 140,
     "metadata": {},
     "output_type": "execute_result"
    }
   ],
   "source": [
    "amazon_sample400[\"Vehicle\"].value_counts()"
   ]
  },
  {
   "cell_type": "markdown",
   "metadata": {},
   "source": [
    "## **What kind of products transport the different vehicles?**"
   ]
  },
  {
   "cell_type": "code",
   "execution_count": null,
   "metadata": {},
   "outputs": [
    {
     "name": "stderr",
     "output_type": "stream",
     "text": [
      "C:\\Users\\Angelique\\AppData\\Local\\Temp\\ipykernel_3640\\3307035500.py:1: FutureWarning: The default of observed=False is deprecated and will be changed to True in a future version of pandas. Pass observed=False to retain current behavior or observed=True to adopt the future default and silence this warning.\n",
      "  amazon_sample400.groupby(\"Vehicle\")[\"Category\"].value_counts(normalize=True)\n"
     ]
    },
    {
     "data": {
      "text/plain": [
       "Vehicle     Category    \n",
       "scooter     Clothing        0.088710\n",
       "            Apparel         0.080645\n",
       "            Grocery         0.080645\n",
       "            Electronics     0.072581\n",
       "            Jewelry         0.072581\n",
       "            Books           0.064516\n",
       "            Pet Supplies    0.064516\n",
       "            Shoes           0.064516\n",
       "            Skincare        0.064516\n",
       "            Cosmetics       0.056452\n",
       "            Home            0.056452\n",
       "            Sports          0.056452\n",
       "            Toys            0.056452\n",
       "            Outdoors        0.048387\n",
       "            Kitchen         0.040323\n",
       "            Snacks          0.032258\n",
       "motorcycle  Kitchen         0.104000\n",
       "            Snacks          0.084000\n",
       "            Electronics     0.076000\n",
       "            Skincare        0.076000\n",
       "            Cosmetics       0.072000\n",
       "            Toys            0.068000\n",
       "            Books           0.064000\n",
       "            Clothing        0.060000\n",
       "            Sports          0.060000\n",
       "            Apparel         0.052000\n",
       "            Grocery         0.052000\n",
       "            Pet Supplies    0.052000\n",
       "            Home            0.048000\n",
       "            Shoes           0.048000\n",
       "            Jewelry         0.044000\n",
       "            Outdoors        0.040000\n",
       "van         Books           0.125000\n",
       "            Jewelry         0.125000\n",
       "            Kitchen         0.125000\n",
       "            Clothing        0.083333\n",
       "            Electronics     0.083333\n",
       "            Outdoors        0.083333\n",
       "            Skincare        0.083333\n",
       "            Sports          0.083333\n",
       "            Grocery         0.041667\n",
       "            Home            0.041667\n",
       "            Pet Supplies    0.041667\n",
       "            Shoes           0.041667\n",
       "            Snacks          0.041667\n",
       "            Apparel         0.000000\n",
       "            Cosmetics       0.000000\n",
       "            Toys            0.000000\n",
       "Name: proportion, dtype: float64"
      ]
     },
     "execution_count": 141,
     "metadata": {},
     "output_type": "execute_result"
    }
   ],
   "source": [
    "amazon_sample400.groupby(\"Vehicle\")[\"Category\"].value_counts(normalize=True)"
   ]
  }
 ],
 "metadata": {
  "kernelspec": {
   "display_name": "Essai",
   "language": "python",
   "name": "python3"
  },
  "language_info": {
   "codemirror_mode": {
    "name": "ipython",
    "version": 3
   },
   "file_extension": ".py",
   "mimetype": "text/x-python",
   "name": "python",
   "nbconvert_exporter": "python",
   "pygments_lexer": "ipython3",
   "version": "3.12.4"
  }
 },
 "nbformat": 4,
 "nbformat_minor": 2
}
